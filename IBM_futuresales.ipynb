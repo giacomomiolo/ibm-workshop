{
 "cells": [
  {
   "cell_type": "code",
   "execution_count": 1,
   "metadata": {},
   "outputs": [],
   "source": [
    "import pandas as pd\n",
    "import numpy as np\n",
    "\n",
    "# Importing\n",
    "import glob\n",
    "import os\n",
    "\n",
    "# Visualizations\n",
    "import seaborn as sns\n",
    "import matplotlib.pyplot as plt\n",
    "import matplotlib.cm as cm\n",
    "import plotly.express as px\n",
    "\n",
    "# Missing Values\n",
    "import missingno as msno\n",
    "\n",
    "# Stats\n",
    "from scipy.stats import skew, kurtosis\n",
    "\n",
    "from IPython.display import Image"
   ]
  },
  {
   "cell_type": "markdown",
   "metadata": {},
   "source": [
    "# Helper Functions"
   ]
  },
  {
   "cell_type": "code",
   "execution_count": 175,
   "metadata": {},
   "outputs": [],
   "source": [
    "import matplotlib.dates as mdates\n",
    "import re\n",
    "\n",
    "def clean_str(string):\n",
    "    '''\n",
    "    Removes special characters and double spaces from a string, preserving single spaces between words.\n",
    "    \n",
    "    Args:\n",
    "        string (str): the dirty string to clean.\n",
    "    \n",
    "    Returns:\n",
    "        cleaned (str)\n",
    "    '''\n",
    "    non_word_digit = re.compile(r\"[^a-zA-Z0-9 ]+\") # Leaving spaces, removing all non letter/digit (add \\- to leave - char as well)\n",
    "    multiple_spaces = re.compile(r\"( {1,})\") # Catching all repeated spaces\n",
    "    start_end_spaces = re.compile(r\"(\\A\\s|\\s\\Z)\") # Removing spaces at start/end\n",
    "    step_1 = re.sub(non_word_digit, \"\", string)\n",
    "    step_2 = re.sub(multiple_spaces, \" \", step_1)\n",
    "    cleaned = re.sub(start_end_spaces, \"\", step_2)\n",
    "    \n",
    "    return cleaned\n",
    "\n",
    "def plot_ts(timeseries, col=0, interval=7, rotation=0):\n",
    "    '''\n",
    "    Args:\n",
    "        timeries (pandas.core.frame.DataFrame): Pandas df with index Date\n",
    "        interval '''\n",
    "    fig, ax = plt.subplots(figsize=(8, 4), dpi=100)\n",
    "    ax.plot(timeseries.index, timeseries.iloc[:,col], linestyle='-', marker='')\n",
    "    \n",
    "    # Formatting xtick time labels\n",
    "    days = mdates.DayLocator(interval=interval)\n",
    "    days_format = mdates.DateFormatter('%b-%d')\n",
    "    ax.xaxis.set_major_locator(days)\n",
    "    ax.xaxis.set_major_formatter(days_format)\n",
    "    plt.setp(ax.get_xticklabels(), rotation=rotation)\n",
    "    \n",
    "    ax.set_xlabel(\"Time\", fontweight='bold')\n",
    "    ax.set_ylabel(\"Value\", fontweight='bold')\n",
    "    plt.title(f\"{timeseries.iloc[:,col].name}\", fontweight='bold')\n",
    "    return plt.show()\n",
    "\n",
    "### Testing Stationarity\n",
    "\n",
    "from statsmodels.tsa.stattools import adfuller\n",
    "from statsmodels.tsa.stattools import kpss\n",
    "import matplotlib.dates as mdates\n",
    "\n",
    "\n",
    "def adf_test(timeseries):\n",
    "    '''\n",
    "    Performs the ADF (Augmented Dickey Fuller) Test on a timeseries.\n",
    "    Null-Hp: Presence of unit root (the timeseries is non-stationary)\n",
    "    '''\n",
    "    print ('Results of Dickey-Fuller Test:')\n",
    "    dftest = adfuller(timeseries, autolag='AIC')\n",
    "    dfoutput = pd.Series(dftest[0:4], index=['Test Statistic','p-value','Lags Used','Number of Observations Used'])\n",
    "    for key,value in dftest[4].items():\n",
    "        dfoutput[f'Critical Value {key}'] = value\n",
    "    print (dfoutput)\n",
    "\n",
    "def kpss_test(timeseries):\n",
    "    '''\n",
    "    Performs the KPSS (Kwiatkowski-Phillips-Schmidt-Shin) Test on a timeseries.\n",
    "    Null-Hp: The timeseries is trend stationary.\n",
    "    '''\n",
    "    print ('Results of KPSS Test:')\n",
    "    kpsstest = kpss(timeseries, regression='c')\n",
    "    kpss_output = pd.Series(kpsstest[0:3], index=['Test Statistic','p-value','Lags Used'])\n",
    "    for key,value in kpsstest[3].items():\n",
    "        kpss_output[f'Critical Value {key}'] = value\n",
    "    print (kpss_output)\n",
    "\n",
    "\n",
    "def plot_ts(timeseries, col=0, interval=7, rotation=0):\n",
    "    '''\n",
    "    Args:\n",
    "        timeries (pandas.core.frame.DataFrame): Pandas df with index Date\n",
    "        interval '''\n",
    "    fig, ax = plt.subplots(figsize=(8, 4), dpi=100)\n",
    "    ax.plot(timeseries.index, timeseries.iloc[:,col], linestyle='-', marker='')\n",
    "    \n",
    "    # Formatting xtick time labels\n",
    "    days = mdates.DayLocator(interval=interval)\n",
    "    days_format = mdates.DateFormatter('%b-%d')\n",
    "    ax.xaxis.set_major_locator(days)\n",
    "    ax.xaxis.set_major_formatter(days_format)\n",
    "    plt.setp(ax.get_xticklabels(), rotation=rotation)\n",
    "    \n",
    "    ax.set_xlabel(\"Time\", fontweight='bold')\n",
    "    ax.set_ylabel(\"Value\", fontweight='bold')\n",
    "    plt.title(f\"{timeseries.iloc[:,col].name}\", fontweight='bold')\n",
    "    return plt.show()\n",
    "    \n",
    "def plot_rolling(timeseries, col=0, interval=7, rotation=0):\n",
    "    '''\n",
    "    Args:\n",
    "        timeries (pandas.core.frame.DataFrame): Pandas df with index Date\n",
    "        interval\n",
    "    '''\n",
    "    fig, ax = plt.subplots(figsize=(8, 4), dpi=100)\n",
    "    ax.plot(timeseries.index, timeseries.iloc[:,col], linestyle='-', marker='', label='Original')\n",
    "    \n",
    "    # Calculating rolling stats\n",
    "    rollmean = timeseries.rolling(window=5).mean()\n",
    "    rollstd = timeseries.rolling(window=5).std()\n",
    "    \n",
    "    ax.plot(rollmean, linestyle='-', marker='', color='black', label='Rolling Mean')\n",
    "    ax.plot(rollstd, linestyle='-', marker='', color='red', label='Rolling Std')\n",
    "    \n",
    "    # Formatting xtick time labels\n",
    "    days = mdates.DayLocator(interval=interval)\n",
    "    days_format = mdates.DateFormatter('%b-%d')\n",
    "    ax.xaxis.set_major_locator(days)\n",
    "    ax.xaxis.set_major_formatter(days_format)\n",
    "    plt.setp(ax.get_xticklabels(), rotation=rotation)\n",
    "    \n",
    "    ax.set_xlabel(\"Time\", fontweight='bold')\n",
    "    ax.set_ylabel(\"Value\", fontweight='bold')\n",
    "    plt.title(f\"{timeseries.iloc[:,col].name}\", fontweight='bold')\n",
    "    plt.legend()\n",
    "    return plt.show()\n",
    "\n",
    "def describe_num(df, col=None):\n",
    "    \n",
    "    '''Takes as input a dataframe and the name of the column you want to describe.\n",
    "    Returns the unique values, eventual missing values count,\n",
    "    the absolute frequencies and the relative frequencies of unique values.\n",
    "    \n",
    "    Args:\n",
    "        df (pandas.core.frame.DataFrame): Pandas DataFrame object.\n",
    "        col (str): Name of the column to describe.'''\n",
    "    \n",
    "    if col==None:\n",
    "        col = [*df.columns]\n",
    "    elif type(col) == str:\n",
    "        col = [col]\n",
    "    elif type(col) != list:\n",
    "        print(\"Invalid Input!\")\n",
    "    index = ['Min', 'Q1', 'Mean', 'Std', 'Median', 'Q3', 'Max']\n",
    "    stats = pd.DataFrame(columns = col, index = index)\n",
    "    for i in col:\n",
    "        stats.loc[index[0], i] = df[i].min()\n",
    "        stats.loc[index[1], i] = df[i].quantile(q=0.25)\n",
    "        stats.loc[index[2], i] = df[i].mean()\n",
    "        stats.loc[index[3], i] = df[i].std()\n",
    "        stats.loc[index[4], i] = df[i].median()\n",
    "        stats.loc[index[5], i] = df[i].quantile(q=0.75)\n",
    "        stats.loc[index[6], i] = df[i].max()\n",
    "    return stats\n",
    "\n",
    "\n",
    "def plot_num(df):\n",
    "    sns.set_style(\"dark\")\n",
    "    for j in range(int(np.ceil(df.shape[1]/3))):\n",
    "        fig, axes = plt.subplots(2, 3, sharex='col', figsize=(20, 5), dpi=100, gridspec_kw={\"height_ratios\": (.2, .8)})\n",
    "        for i in range(3):\n",
    "            k = 3*j + i\n",
    "            if k < df.shape[1]:\n",
    "                sns.boxplot(df.iloc[:,k], ax=axes[0, i], showmeans=True, meanprops = dict(marker='o', markeredgecolor='black',\n",
    "                      markerfacecolor='orange'))\n",
    "                skew_kurt = f\"Skewness: {skew(df.iloc[:,k]):0.3f}, Kurtosis: {kurtosis(df.iloc[:,k]):0.3f}\"\n",
    "                axes[0, i].set_title(f\"{df.columns[k]}\\n\", fontweight='bold', fontsize=14)\n",
    "                axes[0, i].set_xlabel(f'{skew_kurt}', fontsize=12)\n",
    "                \n",
    "                axes[0, i].xaxis.set_label_position('top') \n",
    "                axes[0, i].set_ylabel('')\n",
    "                \n",
    "                # Calculate number of obs per group & median to position labels\n",
    "                \n",
    "                mean = df.iloc[:,k].mean()\n",
    "                # axes[0, i].axvline(x = mean, color=\"red\")\n",
    "                \n",
    "                try:\n",
    "                    sns.distplot(df.iloc[:,k],\n",
    "                                 kde_kws={\"color\": \"black\", \"lw\": 2},\n",
    "                                 hist_kws={\"histtype\": \"bar\", \"linewidth\": 1, \"alpha\": 0.4},\n",
    "                                 ax=axes[1, i])\n",
    "                except RuntimeError as error:\n",
    "                    print(f\"{df.columns[k]} caused an {error}\")\n",
    "                axes[1, i].set_title('')\n",
    "                axes[1, i].set_xlabel(f'Values for {df.columns[k]}', fontweight='bold')\n",
    "                axes[1, i].set_ylabel('Density', fontweight='bold')\n",
    "                plt.subplots_adjust(hspace=0.05)\n",
    "            else:\n",
    "                break\n",
    "        plt.show()\n",
    "        \n",
    "def describe_cat(df, col):\n",
    "    \n",
    "    '''Takes as input a dataframe and the name of the column you want to describe.\n",
    "    Returns the unique values, eventual missing values count,\n",
    "    the absolute frequencies and the relative frequencies of unique values.\n",
    "    \n",
    "    Args:\n",
    "        df (pandas.core.frame.DataFrame): Pandas DataFrame object.\n",
    "        col (str): Name of the column to describe.'''\n",
    "    \n",
    "    # Number, count and percentage of unique values in the column\n",
    "    print(f'{col} - {df[col].nunique()} unique values.')\n",
    "    count = df[col].value_counts(sort=True, dropna=True)\n",
    "    perc = df[col].value_counts(normalize=True, sort=True, ascending=False, dropna=True)*100\n",
    "    d = pd.concat([perc, count], axis=1, keys=['Percentage %', 'Count'])\n",
    "    \n",
    "    # dtype of the column\n",
    "    print(f\"dtype: {df[col].dtype}.\")\n",
    "    \n",
    "    # Number of missing values, if any\n",
    "    missing_count = df[col].isnull().sum()\n",
    "    if missing_count != 0:\n",
    "        total = len(df[col])\n",
    "        missing_perc = (missing_count/total)*100\n",
    "     \n",
    "        print(f'! Missing values: perc - {missing_perc:0.3f}% count - {missing_count}')\n",
    "    else:\n",
    "        print(f'No missing values.\\n')\n",
    "    return d\n",
    "\n",
    "def n_outl(df, col_name, method='norm', n_std=2, detect=False):\n",
    "    '''\n",
    "    df (pandas.core.frame.DataFrame): Dataframe.\n",
    "    col_name (str): Numeric column to be consider.\n",
    "    method (str, optional): Accepts 'IQR' for interquartile range, defaults to Normal Distribution.\n",
    "    n_std (int, optional): Number of standard deviations to consider, defaults to 2.\n",
    "    '''\n",
    "    if method.lower()=='norm':\n",
    "        mean = df[col_name].mean()\n",
    "        sd = df[col_name].std()\n",
    "        \n",
    "        # keep only the ones that are within +x to -x standard deviations in the column\n",
    "        boolean_mask = (np.abs(df[col_name].values - mean) > n_std*sd)\n",
    "        \n",
    "\n",
    "    elif method.lower()=='iqr':\n",
    "    \n",
    "        q1 = np.quantile(df[col_name], 0.25)\n",
    "        q3 = np.quantile(df[col_name], 0.75)\n",
    "        iqr = q3-q1\n",
    "        th1 = q1 - 1.5*iqr\n",
    "        th3 = q3 + 1.5*iqr\n",
    "\n",
    "        boolean_mask = ( (df[col_name] > th3) | (df[col_name] < th1) ) \n",
    "    \n",
    "    \n",
    "    if detect:\n",
    "        df_outliers = df[boolean_mask]\n",
    "        return df_outliers\n",
    "\n",
    "    outliers = len(df[boolean_mask])\n",
    "    return outliers\n",
    "\n",
    "def num2quantile(df, col, num1, num2='<', ID='ID', verbose=False):\n",
    "    '''\n",
    "    Returns the corresponding quantile of a numeric value of a column.\n",
    "    '''\n",
    "    df = df.rename_axis('ID').reset_index()\n",
    "    if type(num2) == str:\n",
    "        if num2 == '<':\n",
    "            quant = df.loc[df[col] < num1, ID].count() / df.shape[0] * 100\n",
    "            if verbose:\n",
    "                return print(f'{quant:0.2f}% of the values in column {col} are below {num1}. {df.loc[df[col] > num1, ID].count()} values are excluded.')\n",
    "        elif num2 == '>':\n",
    "            quant = df.loc[df[col] > num1, ID].count() / df.shape[0] * 100\n",
    "            if verbose:\n",
    "                return print(f'{quant:0.2f}% of the values in column {col} are above {num1}.')\n",
    "    else:\n",
    "        quant = df.loc[(df[col]>=num1) & (df[col]<num2), ID].count() / df.shape[0] * 100\n",
    "        if verbose:\n",
    "                return print(f'{quant:0.2f}% of the values in column {col} are between {num1} and {num2}. Included values: {df.loc[(df[col]>=num1) & (df[col]<num2), ID].count()}')\n",
    "    \n",
    "    return quant"
   ]
  },
  {
   "cell_type": "markdown",
   "metadata": {},
   "source": [
    "## Importing Data"
   ]
  },
  {
   "cell_type": "code",
   "execution_count": 3,
   "metadata": {},
   "outputs": [
    {
     "data": {
      "text/plain": [
       "['sales_train.csv',\n",
       " 'shops.csv',\n",
       " 'test.csv',\n",
       " 'item_categories.csv',\n",
       " 'items.csv',\n",
       " 'sample_submission.csv']"
      ]
     },
     "execution_count": 3,
     "metadata": {},
     "output_type": "execute_result"
    }
   ],
   "source": [
    "PATH = \"C:\\\\Users\\\\giuma\\\\IBM-challenge_predict-future-sales\"\n",
    "\n",
    "# Listing all csv in the directory\n",
    "files = []\n",
    "for csv in glob.glob(os.path.join(PATH, 'data', '*.csv')):\n",
    "    files.append(csv.split(\"/\")[-1])\n",
    "files"
   ]
  },
  {
   "cell_type": "code",
   "execution_count": 4,
   "metadata": {},
   "outputs": [],
   "source": [
    "transactions = pd.read_csv(PATH + \"sales_train.csv\")\n",
    "shops = pd.read_csv(PATH + \"shops.csv\")\n",
    "item_categories = pd.read_csv(PATH + \"item_categories.csv\")\n",
    "items = pd.read_csv(PATH + \"items.csv\")\n",
    "submission_ex = pd.read_csv(PATH + \"sample_submission.csv\")\n",
    "test = pd.read_csv(PATH + \"test.csv\")"
   ]
  },
  {
   "cell_type": "code",
   "execution_count": 5,
   "metadata": {},
   "outputs": [
    {
     "name": "stdout",
     "output_type": "stream",
     "text": [
      "(2935849, 6)\n"
     ]
    },
    {
     "data": {
      "text/html": [
       "<div>\n",
       "<style scoped>\n",
       "    .dataframe tbody tr th:only-of-type {\n",
       "        vertical-align: middle;\n",
       "    }\n",
       "\n",
       "    .dataframe tbody tr th {\n",
       "        vertical-align: top;\n",
       "    }\n",
       "\n",
       "    .dataframe thead th {\n",
       "        text-align: right;\n",
       "    }\n",
       "</style>\n",
       "<table border=\"1\" class=\"dataframe\">\n",
       "  <thead>\n",
       "    <tr style=\"text-align: right;\">\n",
       "      <th></th>\n",
       "      <th>date</th>\n",
       "      <th>date_block_num</th>\n",
       "      <th>shop_id</th>\n",
       "      <th>item_id</th>\n",
       "      <th>item_price</th>\n",
       "      <th>item_cnt_day</th>\n",
       "    </tr>\n",
       "  </thead>\n",
       "  <tbody>\n",
       "    <tr>\n",
       "      <th>2935844</th>\n",
       "      <td>10.10.2015</td>\n",
       "      <td>33</td>\n",
       "      <td>25</td>\n",
       "      <td>7409</td>\n",
       "      <td>299.0</td>\n",
       "      <td>1.0</td>\n",
       "    </tr>\n",
       "    <tr>\n",
       "      <th>2935845</th>\n",
       "      <td>09.10.2015</td>\n",
       "      <td>33</td>\n",
       "      <td>25</td>\n",
       "      <td>7460</td>\n",
       "      <td>299.0</td>\n",
       "      <td>1.0</td>\n",
       "    </tr>\n",
       "    <tr>\n",
       "      <th>2935846</th>\n",
       "      <td>14.10.2015</td>\n",
       "      <td>33</td>\n",
       "      <td>25</td>\n",
       "      <td>7459</td>\n",
       "      <td>349.0</td>\n",
       "      <td>1.0</td>\n",
       "    </tr>\n",
       "    <tr>\n",
       "      <th>2935847</th>\n",
       "      <td>22.10.2015</td>\n",
       "      <td>33</td>\n",
       "      <td>25</td>\n",
       "      <td>7440</td>\n",
       "      <td>299.0</td>\n",
       "      <td>1.0</td>\n",
       "    </tr>\n",
       "    <tr>\n",
       "      <th>2935848</th>\n",
       "      <td>03.10.2015</td>\n",
       "      <td>33</td>\n",
       "      <td>25</td>\n",
       "      <td>7460</td>\n",
       "      <td>299.0</td>\n",
       "      <td>1.0</td>\n",
       "    </tr>\n",
       "  </tbody>\n",
       "</table>\n",
       "</div>"
      ],
      "text/plain": [
       "               date  date_block_num  shop_id  item_id  item_price  \\\n",
       "2935844  10.10.2015              33       25     7409       299.0   \n",
       "2935845  09.10.2015              33       25     7460       299.0   \n",
       "2935846  14.10.2015              33       25     7459       349.0   \n",
       "2935847  22.10.2015              33       25     7440       299.0   \n",
       "2935848  03.10.2015              33       25     7460       299.0   \n",
       "\n",
       "         item_cnt_day  \n",
       "2935844           1.0  \n",
       "2935845           1.0  \n",
       "2935846           1.0  \n",
       "2935847           1.0  \n",
       "2935848           1.0  "
      ]
     },
     "execution_count": 5,
     "metadata": {},
     "output_type": "execute_result"
    }
   ],
   "source": [
    "print(transactions.shape)\n",
    "transactions.tail()"
   ]
  },
  {
   "cell_type": "code",
   "execution_count": 6,
   "metadata": {},
   "outputs": [
    {
     "name": "stdout",
     "output_type": "stream",
     "text": [
      "(60, 2)\n"
     ]
    },
    {
     "data": {
      "text/html": [
       "<div>\n",
       "<style scoped>\n",
       "    .dataframe tbody tr th:only-of-type {\n",
       "        vertical-align: middle;\n",
       "    }\n",
       "\n",
       "    .dataframe tbody tr th {\n",
       "        vertical-align: top;\n",
       "    }\n",
       "\n",
       "    .dataframe thead th {\n",
       "        text-align: right;\n",
       "    }\n",
       "</style>\n",
       "<table border=\"1\" class=\"dataframe\">\n",
       "  <thead>\n",
       "    <tr style=\"text-align: right;\">\n",
       "      <th></th>\n",
       "      <th>shop_name</th>\n",
       "      <th>shop_id</th>\n",
       "    </tr>\n",
       "  </thead>\n",
       "  <tbody>\n",
       "    <tr>\n",
       "      <th>55</th>\n",
       "      <td>Цифровой склад 1С-Онлайн</td>\n",
       "      <td>55</td>\n",
       "    </tr>\n",
       "    <tr>\n",
       "      <th>56</th>\n",
       "      <td>Чехов ТРЦ \"Карнавал\"</td>\n",
       "      <td>56</td>\n",
       "    </tr>\n",
       "    <tr>\n",
       "      <th>57</th>\n",
       "      <td>Якутск Орджоникидзе, 56</td>\n",
       "      <td>57</td>\n",
       "    </tr>\n",
       "    <tr>\n",
       "      <th>58</th>\n",
       "      <td>Якутск ТЦ \"Центральный\"</td>\n",
       "      <td>58</td>\n",
       "    </tr>\n",
       "    <tr>\n",
       "      <th>59</th>\n",
       "      <td>Ярославль ТЦ \"Альтаир\"</td>\n",
       "      <td>59</td>\n",
       "    </tr>\n",
       "  </tbody>\n",
       "</table>\n",
       "</div>"
      ],
      "text/plain": [
       "                   shop_name  shop_id\n",
       "55  Цифровой склад 1С-Онлайн       55\n",
       "56      Чехов ТРЦ \"Карнавал\"       56\n",
       "57   Якутск Орджоникидзе, 56       57\n",
       "58   Якутск ТЦ \"Центральный\"       58\n",
       "59    Ярославль ТЦ \"Альтаир\"       59"
      ]
     },
     "execution_count": 6,
     "metadata": {},
     "output_type": "execute_result"
    }
   ],
   "source": [
    "print(shops.shape)\n",
    "shops.tail()"
   ]
  },
  {
   "cell_type": "code",
   "execution_count": 7,
   "metadata": {},
   "outputs": [
    {
     "name": "stdout",
     "output_type": "stream",
     "text": [
      "(84, 2)\n"
     ]
    },
    {
     "data": {
      "text/html": [
       "<div>\n",
       "<style scoped>\n",
       "    .dataframe tbody tr th:only-of-type {\n",
       "        vertical-align: middle;\n",
       "    }\n",
       "\n",
       "    .dataframe tbody tr th {\n",
       "        vertical-align: top;\n",
       "    }\n",
       "\n",
       "    .dataframe thead th {\n",
       "        text-align: right;\n",
       "    }\n",
       "</style>\n",
       "<table border=\"1\" class=\"dataframe\">\n",
       "  <thead>\n",
       "    <tr style=\"text-align: right;\">\n",
       "      <th></th>\n",
       "      <th>item_category_name</th>\n",
       "      <th>item_category_id</th>\n",
       "    </tr>\n",
       "  </thead>\n",
       "  <tbody>\n",
       "    <tr>\n",
       "      <th>79</th>\n",
       "      <td>Служебные</td>\n",
       "      <td>79</td>\n",
       "    </tr>\n",
       "    <tr>\n",
       "      <th>80</th>\n",
       "      <td>Служебные - Билеты</td>\n",
       "      <td>80</td>\n",
       "    </tr>\n",
       "    <tr>\n",
       "      <th>81</th>\n",
       "      <td>Чистые носители (шпиль)</td>\n",
       "      <td>81</td>\n",
       "    </tr>\n",
       "    <tr>\n",
       "      <th>82</th>\n",
       "      <td>Чистые носители (штучные)</td>\n",
       "      <td>82</td>\n",
       "    </tr>\n",
       "    <tr>\n",
       "      <th>83</th>\n",
       "      <td>Элементы питания</td>\n",
       "      <td>83</td>\n",
       "    </tr>\n",
       "  </tbody>\n",
       "</table>\n",
       "</div>"
      ],
      "text/plain": [
       "           item_category_name  item_category_id\n",
       "79                  Служебные                79\n",
       "80         Служебные - Билеты                80\n",
       "81    Чистые носители (шпиль)                81\n",
       "82  Чистые носители (штучные)                82\n",
       "83           Элементы питания                83"
      ]
     },
     "execution_count": 7,
     "metadata": {},
     "output_type": "execute_result"
    }
   ],
   "source": [
    "print(item_categories.shape)\n",
    "item_categories.tail()"
   ]
  },
  {
   "cell_type": "code",
   "execution_count": 8,
   "metadata": {},
   "outputs": [
    {
     "name": "stdout",
     "output_type": "stream",
     "text": [
      "(22170, 3)\n"
     ]
    },
    {
     "data": {
      "text/html": [
       "<div>\n",
       "<style scoped>\n",
       "    .dataframe tbody tr th:only-of-type {\n",
       "        vertical-align: middle;\n",
       "    }\n",
       "\n",
       "    .dataframe tbody tr th {\n",
       "        vertical-align: top;\n",
       "    }\n",
       "\n",
       "    .dataframe thead th {\n",
       "        text-align: right;\n",
       "    }\n",
       "</style>\n",
       "<table border=\"1\" class=\"dataframe\">\n",
       "  <thead>\n",
       "    <tr style=\"text-align: right;\">\n",
       "      <th></th>\n",
       "      <th>item_name</th>\n",
       "      <th>item_id</th>\n",
       "      <th>item_category_id</th>\n",
       "    </tr>\n",
       "  </thead>\n",
       "  <tbody>\n",
       "    <tr>\n",
       "      <th>22165</th>\n",
       "      <td>Ядерный титбит 2 [PC, Цифровая версия]</td>\n",
       "      <td>22165</td>\n",
       "      <td>31</td>\n",
       "    </tr>\n",
       "    <tr>\n",
       "      <th>22166</th>\n",
       "      <td>Язык запросов 1С:Предприятия  [Цифровая версия]</td>\n",
       "      <td>22166</td>\n",
       "      <td>54</td>\n",
       "    </tr>\n",
       "    <tr>\n",
       "      <th>22167</th>\n",
       "      <td>Язык запросов 1С:Предприятия 8 (+CD). Хрустале...</td>\n",
       "      <td>22167</td>\n",
       "      <td>49</td>\n",
       "    </tr>\n",
       "    <tr>\n",
       "      <th>22168</th>\n",
       "      <td>Яйцо для Little Inu</td>\n",
       "      <td>22168</td>\n",
       "      <td>62</td>\n",
       "    </tr>\n",
       "    <tr>\n",
       "      <th>22169</th>\n",
       "      <td>Яйцо дракона (Игра престолов)</td>\n",
       "      <td>22169</td>\n",
       "      <td>69</td>\n",
       "    </tr>\n",
       "  </tbody>\n",
       "</table>\n",
       "</div>"
      ],
      "text/plain": [
       "                                               item_name  item_id  \\\n",
       "22165             Ядерный титбит 2 [PC, Цифровая версия]    22165   \n",
       "22166    Язык запросов 1С:Предприятия  [Цифровая версия]    22166   \n",
       "22167  Язык запросов 1С:Предприятия 8 (+CD). Хрустале...    22167   \n",
       "22168                                Яйцо для Little Inu    22168   \n",
       "22169                      Яйцо дракона (Игра престолов)    22169   \n",
       "\n",
       "       item_category_id  \n",
       "22165                31  \n",
       "22166                54  \n",
       "22167                49  \n",
       "22168                62  \n",
       "22169                69  "
      ]
     },
     "execution_count": 8,
     "metadata": {},
     "output_type": "execute_result"
    }
   ],
   "source": [
    "print(items.shape)\n",
    "items.tail()"
   ]
  },
  {
   "cell_type": "code",
   "execution_count": 9,
   "metadata": {},
   "outputs": [
    {
     "name": "stdout",
     "output_type": "stream",
     "text": [
      "(214200, 2)\n"
     ]
    },
    {
     "data": {
      "text/html": [
       "<div>\n",
       "<style scoped>\n",
       "    .dataframe tbody tr th:only-of-type {\n",
       "        vertical-align: middle;\n",
       "    }\n",
       "\n",
       "    .dataframe tbody tr th {\n",
       "        vertical-align: top;\n",
       "    }\n",
       "\n",
       "    .dataframe thead th {\n",
       "        text-align: right;\n",
       "    }\n",
       "</style>\n",
       "<table border=\"1\" class=\"dataframe\">\n",
       "  <thead>\n",
       "    <tr style=\"text-align: right;\">\n",
       "      <th></th>\n",
       "      <th>ID</th>\n",
       "      <th>item_cnt_month</th>\n",
       "    </tr>\n",
       "  </thead>\n",
       "  <tbody>\n",
       "    <tr>\n",
       "      <th>214195</th>\n",
       "      <td>214195</td>\n",
       "      <td>0.5</td>\n",
       "    </tr>\n",
       "    <tr>\n",
       "      <th>214196</th>\n",
       "      <td>214196</td>\n",
       "      <td>0.5</td>\n",
       "    </tr>\n",
       "    <tr>\n",
       "      <th>214197</th>\n",
       "      <td>214197</td>\n",
       "      <td>0.5</td>\n",
       "    </tr>\n",
       "    <tr>\n",
       "      <th>214198</th>\n",
       "      <td>214198</td>\n",
       "      <td>0.5</td>\n",
       "    </tr>\n",
       "    <tr>\n",
       "      <th>214199</th>\n",
       "      <td>214199</td>\n",
       "      <td>0.5</td>\n",
       "    </tr>\n",
       "  </tbody>\n",
       "</table>\n",
       "</div>"
      ],
      "text/plain": [
       "            ID  item_cnt_month\n",
       "214195  214195             0.5\n",
       "214196  214196             0.5\n",
       "214197  214197             0.5\n",
       "214198  214198             0.5\n",
       "214199  214199             0.5"
      ]
     },
     "execution_count": 9,
     "metadata": {},
     "output_type": "execute_result"
    }
   ],
   "source": [
    "print(submission_ex.shape)\n",
    "submission_ex.tail()"
   ]
  },
  {
   "cell_type": "code",
   "execution_count": 10,
   "metadata": {},
   "outputs": [
    {
     "name": "stdout",
     "output_type": "stream",
     "text": [
      "(214200, 3)\n"
     ]
    },
    {
     "data": {
      "text/html": [
       "<div>\n",
       "<style scoped>\n",
       "    .dataframe tbody tr th:only-of-type {\n",
       "        vertical-align: middle;\n",
       "    }\n",
       "\n",
       "    .dataframe tbody tr th {\n",
       "        vertical-align: top;\n",
       "    }\n",
       "\n",
       "    .dataframe thead th {\n",
       "        text-align: right;\n",
       "    }\n",
       "</style>\n",
       "<table border=\"1\" class=\"dataframe\">\n",
       "  <thead>\n",
       "    <tr style=\"text-align: right;\">\n",
       "      <th></th>\n",
       "      <th>ID</th>\n",
       "      <th>shop_id</th>\n",
       "      <th>item_id</th>\n",
       "    </tr>\n",
       "  </thead>\n",
       "  <tbody>\n",
       "    <tr>\n",
       "      <th>214195</th>\n",
       "      <td>214195</td>\n",
       "      <td>45</td>\n",
       "      <td>18454</td>\n",
       "    </tr>\n",
       "    <tr>\n",
       "      <th>214196</th>\n",
       "      <td>214196</td>\n",
       "      <td>45</td>\n",
       "      <td>16188</td>\n",
       "    </tr>\n",
       "    <tr>\n",
       "      <th>214197</th>\n",
       "      <td>214197</td>\n",
       "      <td>45</td>\n",
       "      <td>15757</td>\n",
       "    </tr>\n",
       "    <tr>\n",
       "      <th>214198</th>\n",
       "      <td>214198</td>\n",
       "      <td>45</td>\n",
       "      <td>19648</td>\n",
       "    </tr>\n",
       "    <tr>\n",
       "      <th>214199</th>\n",
       "      <td>214199</td>\n",
       "      <td>45</td>\n",
       "      <td>969</td>\n",
       "    </tr>\n",
       "  </tbody>\n",
       "</table>\n",
       "</div>"
      ],
      "text/plain": [
       "            ID  shop_id  item_id\n",
       "214195  214195       45    18454\n",
       "214196  214196       45    16188\n",
       "214197  214197       45    15757\n",
       "214198  214198       45    19648\n",
       "214199  214199       45      969"
      ]
     },
     "execution_count": 10,
     "metadata": {},
     "output_type": "execute_result"
    }
   ],
   "source": [
    "print(test.shape)\n",
    "test.tail()"
   ]
  },
  {
   "cell_type": "markdown",
   "metadata": {},
   "source": [
    "# Data Cleaning"
   ]
  },
  {
   "cell_type": "markdown",
   "metadata": {},
   "source": [
    "#### Transactions"
   ]
  },
  {
   "cell_type": "code",
   "execution_count": 11,
   "metadata": {},
   "outputs": [
    {
     "data": {
      "text/html": [
       "<div>\n",
       "<style scoped>\n",
       "    .dataframe tbody tr th:only-of-type {\n",
       "        vertical-align: middle;\n",
       "    }\n",
       "\n",
       "    .dataframe tbody tr th {\n",
       "        vertical-align: top;\n",
       "    }\n",
       "\n",
       "    .dataframe thead th {\n",
       "        text-align: right;\n",
       "    }\n",
       "</style>\n",
       "<table border=\"1\" class=\"dataframe\">\n",
       "  <thead>\n",
       "    <tr style=\"text-align: right;\">\n",
       "      <th></th>\n",
       "      <th>date</th>\n",
       "      <th>date_block_num</th>\n",
       "      <th>shop_id</th>\n",
       "      <th>item_id</th>\n",
       "      <th>item_price</th>\n",
       "      <th>item_cnt_day</th>\n",
       "    </tr>\n",
       "  </thead>\n",
       "  <tbody>\n",
       "    <tr>\n",
       "      <th>2</th>\n",
       "      <td>05.01.2013</td>\n",
       "      <td>0</td>\n",
       "      <td>25</td>\n",
       "      <td>2552</td>\n",
       "      <td>899.0</td>\n",
       "      <td>-1.0</td>\n",
       "    </tr>\n",
       "    <tr>\n",
       "      <th>148</th>\n",
       "      <td>23.01.2013</td>\n",
       "      <td>0</td>\n",
       "      <td>25</td>\n",
       "      <td>2321</td>\n",
       "      <td>999.0</td>\n",
       "      <td>-1.0</td>\n",
       "    </tr>\n",
       "    <tr>\n",
       "      <th>175</th>\n",
       "      <td>07.01.2013</td>\n",
       "      <td>0</td>\n",
       "      <td>25</td>\n",
       "      <td>2199</td>\n",
       "      <td>1449.0</td>\n",
       "      <td>-1.0</td>\n",
       "    </tr>\n",
       "    <tr>\n",
       "      <th>807</th>\n",
       "      <td>02.01.2013</td>\n",
       "      <td>0</td>\n",
       "      <td>25</td>\n",
       "      <td>2330</td>\n",
       "      <td>599.0</td>\n",
       "      <td>-1.0</td>\n",
       "    </tr>\n",
       "    <tr>\n",
       "      <th>1041</th>\n",
       "      <td>13.01.2013</td>\n",
       "      <td>0</td>\n",
       "      <td>25</td>\n",
       "      <td>5034</td>\n",
       "      <td>1989.0</td>\n",
       "      <td>-1.0</td>\n",
       "    </tr>\n",
       "    <tr>\n",
       "      <th>...</th>\n",
       "      <td>...</td>\n",
       "      <td>...</td>\n",
       "      <td>...</td>\n",
       "      <td>...</td>\n",
       "      <td>...</td>\n",
       "      <td>...</td>\n",
       "    </tr>\n",
       "    <tr>\n",
       "      <th>2934243</th>\n",
       "      <td>26.10.2015</td>\n",
       "      <td>33</td>\n",
       "      <td>25</td>\n",
       "      <td>3917</td>\n",
       "      <td>449.0</td>\n",
       "      <td>-1.0</td>\n",
       "    </tr>\n",
       "    <tr>\n",
       "      <th>2934462</th>\n",
       "      <td>18.10.2015</td>\n",
       "      <td>33</td>\n",
       "      <td>25</td>\n",
       "      <td>4896</td>\n",
       "      <td>6398.0</td>\n",
       "      <td>-1.0</td>\n",
       "    </tr>\n",
       "    <tr>\n",
       "      <th>2935263</th>\n",
       "      <td>05.10.2015</td>\n",
       "      <td>33</td>\n",
       "      <td>25</td>\n",
       "      <td>10039</td>\n",
       "      <td>249.0</td>\n",
       "      <td>-1.0</td>\n",
       "    </tr>\n",
       "    <tr>\n",
       "      <th>2935643</th>\n",
       "      <td>16.10.2015</td>\n",
       "      <td>33</td>\n",
       "      <td>25</td>\n",
       "      <td>7893</td>\n",
       "      <td>2990.0</td>\n",
       "      <td>-1.0</td>\n",
       "    </tr>\n",
       "    <tr>\n",
       "      <th>2935779</th>\n",
       "      <td>07.10.2015</td>\n",
       "      <td>33</td>\n",
       "      <td>25</td>\n",
       "      <td>7087</td>\n",
       "      <td>999.0</td>\n",
       "      <td>-1.0</td>\n",
       "    </tr>\n",
       "  </tbody>\n",
       "</table>\n",
       "<p>7356 rows × 6 columns</p>\n",
       "</div>"
      ],
      "text/plain": [
       "               date  date_block_num  shop_id  item_id  item_price  \\\n",
       "2        05.01.2013               0       25     2552       899.0   \n",
       "148      23.01.2013               0       25     2321       999.0   \n",
       "175      07.01.2013               0       25     2199      1449.0   \n",
       "807      02.01.2013               0       25     2330       599.0   \n",
       "1041     13.01.2013               0       25     5034      1989.0   \n",
       "...             ...             ...      ...      ...         ...   \n",
       "2934243  26.10.2015              33       25     3917       449.0   \n",
       "2934462  18.10.2015              33       25     4896      6398.0   \n",
       "2935263  05.10.2015              33       25    10039       249.0   \n",
       "2935643  16.10.2015              33       25     7893      2990.0   \n",
       "2935779  07.10.2015              33       25     7087       999.0   \n",
       "\n",
       "         item_cnt_day  \n",
       "2                -1.0  \n",
       "148              -1.0  \n",
       "175              -1.0  \n",
       "807              -1.0  \n",
       "1041             -1.0  \n",
       "...               ...  \n",
       "2934243          -1.0  \n",
       "2934462          -1.0  \n",
       "2935263          -1.0  \n",
       "2935643          -1.0  \n",
       "2935779          -1.0  \n",
       "\n",
       "[7356 rows x 6 columns]"
      ]
     },
     "execution_count": 11,
     "metadata": {},
     "output_type": "execute_result"
    }
   ],
   "source": [
    "transactions.query('item_cnt_day < 0')"
   ]
  },
  {
   "cell_type": "markdown",
   "metadata": {},
   "source": [
    "Negative values for item_cnt_day may indicate a returned item. \n",
    "**Dropping** them and checking if anything from the test dataset was dropped."
   ]
  },
  {
   "cell_type": "code",
   "execution_count": 12,
   "metadata": {},
   "outputs": [
    {
     "data": {
      "text/plain": [
       "{11871, 13474, 18062}"
      ]
     },
     "execution_count": 12,
     "metadata": {},
     "output_type": "execute_result"
    }
   ],
   "source": [
    "only_returns = set(transactions['item_id']) - set(transactions.query('item_cnt_day > 0')['item_id'])\n",
    "only_returns"
   ]
  },
  {
   "cell_type": "markdown",
   "metadata": {},
   "source": [
    "These items have only been returned without being purchased (in the dataset available)."
   ]
  },
  {
   "cell_type": "code",
   "execution_count": 13,
   "metadata": {},
   "outputs": [
    {
     "data": {
      "text/plain": [
       "set()"
      ]
     },
     "execution_count": 13,
     "metadata": {},
     "output_type": "execute_result"
    }
   ],
   "source": [
    "set(test['item_id'].unique()) & only_returns"
   ]
  },
  {
   "cell_type": "code",
   "execution_count": 14,
   "metadata": {},
   "outputs": [],
   "source": [
    "transactions = transactions.query('item_cnt_day > 0')"
   ]
  },
  {
   "cell_type": "markdown",
   "metadata": {},
   "source": [
    "#### Shops"
   ]
  },
  {
   "cell_type": "code",
   "execution_count": 15,
   "metadata": {},
   "outputs": [
    {
     "data": {
      "text/html": [
       "<div>\n",
       "<style scoped>\n",
       "    .dataframe tbody tr th:only-of-type {\n",
       "        vertical-align: middle;\n",
       "    }\n",
       "\n",
       "    .dataframe tbody tr th {\n",
       "        vertical-align: top;\n",
       "    }\n",
       "\n",
       "    .dataframe thead th {\n",
       "        text-align: right;\n",
       "    }\n",
       "</style>\n",
       "<table border=\"1\" class=\"dataframe\">\n",
       "  <thead>\n",
       "    <tr style=\"text-align: right;\">\n",
       "      <th></th>\n",
       "      <th>shop_name</th>\n",
       "      <th>shop_id</th>\n",
       "      <th>city</th>\n",
       "    </tr>\n",
       "  </thead>\n",
       "  <tbody>\n",
       "    <tr>\n",
       "      <th>0</th>\n",
       "      <td>!Якутск Орджоникидзе, 56 фран</td>\n",
       "      <td>0</td>\n",
       "      <td>Якутск</td>\n",
       "    </tr>\n",
       "    <tr>\n",
       "      <th>1</th>\n",
       "      <td>!Якутск ТЦ \"Центральный\" фран</td>\n",
       "      <td>1</td>\n",
       "      <td>Якутск</td>\n",
       "    </tr>\n",
       "    <tr>\n",
       "      <th>2</th>\n",
       "      <td>Адыгея ТЦ \"Мега\"</td>\n",
       "      <td>2</td>\n",
       "      <td>Адыгея</td>\n",
       "    </tr>\n",
       "    <tr>\n",
       "      <th>3</th>\n",
       "      <td>Балашиха ТРК \"Октябрь-Киномир\"</td>\n",
       "      <td>3</td>\n",
       "      <td>Балашиха</td>\n",
       "    </tr>\n",
       "    <tr>\n",
       "      <th>4</th>\n",
       "      <td>Волжский ТЦ \"Волга Молл\"</td>\n",
       "      <td>4</td>\n",
       "      <td>Волжский</td>\n",
       "    </tr>\n",
       "  </tbody>\n",
       "</table>\n",
       "</div>"
      ],
      "text/plain": [
       "                        shop_name  shop_id      city\n",
       "0   !Якутск Орджоникидзе, 56 фран        0    Якутск\n",
       "1   !Якутск ТЦ \"Центральный\" фран        1    Якутск\n",
       "2                Адыгея ТЦ \"Мега\"        2    Адыгея\n",
       "3  Балашиха ТРК \"Октябрь-Киномир\"        3  Балашиха\n",
       "4        Волжский ТЦ \"Волга Молл\"        4  Волжский"
      ]
     },
     "execution_count": 15,
     "metadata": {},
     "output_type": "execute_result"
    }
   ],
   "source": [
    "## the last part of the shop name indicates the City\n",
    "shops.loc[shops.shop_name == 'Сергиев Посад ТЦ \"7Я\"', 'shop_name'] = 'СергиевПосад ТЦ \"7Я\"'\n",
    "shops['city'] = shops['shop_name'].str.split(' ').map(lambda x: x[0])\n",
    "## correct the names that are mispelt\n",
    "shops.loc[shops.city == '!Якутск', 'city'] = 'Якутск'\n",
    "shops.head(5)"
   ]
  },
  {
   "cell_type": "code",
   "execution_count": 16,
   "metadata": {},
   "outputs": [],
   "source": [
    "city_eng = ['Yakutsk', 'Adygea', 'Balashikha', 'Volzhsky', 'Vologda', 'Voronezh', 'Visiting',\n",
    "            'Zhukovsky', 'Online Store', 'Kazan', 'Kaluga', 'Kolomna', 'Krasnoyarsk', 'Kursk',\n",
    "            'Moscow', 'Mytishchi', 'N. Novgorod', 'Novosibirsk', 'Omsk', 'RostovNaDonu', 'St. Petersburg',\n",
    "            'Samara', 'Sergiev Posad', 'Surgut', 'Tomsk', 'Tyumen', 'Ufa', 'Khimki', 'Digital', 'Chekhov', 'Yaroslavl']\n",
    "\n",
    "city_eng_c = [*map(clean_str, city_eng)]\n",
    "shops['city'].replace(to_replace=[*shops['city'].unique()], value=city_eng_c, inplace=True)"
   ]
  },
  {
   "cell_type": "code",
   "execution_count": 17,
   "metadata": {},
   "outputs": [],
   "source": [
    "pd.options.display.max_rows = 10"
   ]
  },
  {
   "cell_type": "code",
   "execution_count": 18,
   "metadata": {},
   "outputs": [
    {
     "name": "stdout",
     "output_type": "stream",
     "text": [
      "(84, 2)\n"
     ]
    },
    {
     "data": {
      "text/html": [
       "<div>\n",
       "<style scoped>\n",
       "    .dataframe tbody tr th:only-of-type {\n",
       "        vertical-align: middle;\n",
       "    }\n",
       "\n",
       "    .dataframe tbody tr th {\n",
       "        vertical-align: top;\n",
       "    }\n",
       "\n",
       "    .dataframe thead th {\n",
       "        text-align: right;\n",
       "    }\n",
       "</style>\n",
       "<table border=\"1\" class=\"dataframe\">\n",
       "  <thead>\n",
       "    <tr style=\"text-align: right;\">\n",
       "      <th></th>\n",
       "      <th>item_category_name</th>\n",
       "      <th>item_category_id</th>\n",
       "    </tr>\n",
       "  </thead>\n",
       "  <tbody>\n",
       "    <tr>\n",
       "      <th>0</th>\n",
       "      <td>PC - Гарнитуры/Наушники</td>\n",
       "      <td>0</td>\n",
       "    </tr>\n",
       "    <tr>\n",
       "      <th>1</th>\n",
       "      <td>Аксессуары - PS2</td>\n",
       "      <td>1</td>\n",
       "    </tr>\n",
       "    <tr>\n",
       "      <th>2</th>\n",
       "      <td>Аксессуары - PS3</td>\n",
       "      <td>2</td>\n",
       "    </tr>\n",
       "    <tr>\n",
       "      <th>3</th>\n",
       "      <td>Аксессуары - PS4</td>\n",
       "      <td>3</td>\n",
       "    </tr>\n",
       "    <tr>\n",
       "      <th>4</th>\n",
       "      <td>Аксессуары - PSP</td>\n",
       "      <td>4</td>\n",
       "    </tr>\n",
       "    <tr>\n",
       "      <th>...</th>\n",
       "      <td>...</td>\n",
       "      <td>...</td>\n",
       "    </tr>\n",
       "    <tr>\n",
       "      <th>79</th>\n",
       "      <td>Служебные</td>\n",
       "      <td>79</td>\n",
       "    </tr>\n",
       "    <tr>\n",
       "      <th>80</th>\n",
       "      <td>Служебные - Билеты</td>\n",
       "      <td>80</td>\n",
       "    </tr>\n",
       "    <tr>\n",
       "      <th>81</th>\n",
       "      <td>Чистые носители (шпиль)</td>\n",
       "      <td>81</td>\n",
       "    </tr>\n",
       "    <tr>\n",
       "      <th>82</th>\n",
       "      <td>Чистые носители (штучные)</td>\n",
       "      <td>82</td>\n",
       "    </tr>\n",
       "    <tr>\n",
       "      <th>83</th>\n",
       "      <td>Элементы питания</td>\n",
       "      <td>83</td>\n",
       "    </tr>\n",
       "  </tbody>\n",
       "</table>\n",
       "<p>84 rows × 2 columns</p>\n",
       "</div>"
      ],
      "text/plain": [
       "           item_category_name  item_category_id\n",
       "0     PC - Гарнитуры/Наушники                 0\n",
       "1            Аксессуары - PS2                 1\n",
       "2            Аксессуары - PS3                 2\n",
       "3            Аксессуары - PS4                 3\n",
       "4            Аксессуары - PSP                 4\n",
       "..                        ...               ...\n",
       "79                  Служебные                79\n",
       "80         Служебные - Билеты                80\n",
       "81    Чистые носители (шпиль)                81\n",
       "82  Чистые носители (штучные)                82\n",
       "83           Элементы питания                83\n",
       "\n",
       "[84 rows x 2 columns]"
      ]
     },
     "execution_count": 18,
     "metadata": {},
     "output_type": "execute_result"
    }
   ],
   "source": [
    "print(item_categories.shape)\n",
    "item_categories"
   ]
  },
  {
   "cell_type": "code",
   "execution_count": 19,
   "metadata": {},
   "outputs": [
    {
     "data": {
      "text/html": [
       "<div>\n",
       "<style scoped>\n",
       "    .dataframe tbody tr th:only-of-type {\n",
       "        vertical-align: middle;\n",
       "    }\n",
       "\n",
       "    .dataframe tbody tr th {\n",
       "        vertical-align: top;\n",
       "    }\n",
       "\n",
       "    .dataframe thead th {\n",
       "        text-align: right;\n",
       "    }\n",
       "</style>\n",
       "<table border=\"1\" class=\"dataframe\">\n",
       "  <thead>\n",
       "    <tr style=\"text-align: right;\">\n",
       "      <th></th>\n",
       "      <th>item_category_name</th>\n",
       "      <th>item_category_id</th>\n",
       "      <th>split</th>\n",
       "    </tr>\n",
       "  </thead>\n",
       "  <tbody>\n",
       "    <tr>\n",
       "      <th>0</th>\n",
       "      <td>PC - Гарнитуры/Наушники</td>\n",
       "      <td>0</td>\n",
       "      <td>[PC ,  Гарнитуры/Наушники]</td>\n",
       "    </tr>\n",
       "    <tr>\n",
       "      <th>1</th>\n",
       "      <td>Аксессуары - PS2</td>\n",
       "      <td>1</td>\n",
       "      <td>[Аксессуары ,  PS2]</td>\n",
       "    </tr>\n",
       "    <tr>\n",
       "      <th>2</th>\n",
       "      <td>Аксессуары - PS3</td>\n",
       "      <td>2</td>\n",
       "      <td>[Аксессуары ,  PS3]</td>\n",
       "    </tr>\n",
       "    <tr>\n",
       "      <th>3</th>\n",
       "      <td>Аксессуары - PS4</td>\n",
       "      <td>3</td>\n",
       "      <td>[Аксессуары ,  PS4]</td>\n",
       "    </tr>\n",
       "    <tr>\n",
       "      <th>4</th>\n",
       "      <td>Аксессуары - PSP</td>\n",
       "      <td>4</td>\n",
       "      <td>[Аксессуары ,  PSP]</td>\n",
       "    </tr>\n",
       "  </tbody>\n",
       "</table>\n",
       "</div>"
      ],
      "text/plain": [
       "        item_category_name  item_category_id                       split\n",
       "0  PC - Гарнитуры/Наушники                 0  [PC ,  Гарнитуры/Наушники]\n",
       "1         Аксессуары - PS2                 1         [Аксессуары ,  PS2]\n",
       "2         Аксессуары - PS3                 2         [Аксессуары ,  PS3]\n",
       "3         Аксессуары - PS4                 3         [Аксессуары ,  PS4]\n",
       "4         Аксессуары - PSP                 4         [Аксессуары ,  PSP]"
      ]
     },
     "execution_count": 19,
     "metadata": {},
     "output_type": "execute_result"
    }
   ],
   "source": [
    "item_categories['split'] = item_categories['item_category_name'].str.split('-')\n",
    "item_categories.head()"
   ]
  },
  {
   "cell_type": "code",
   "execution_count": 20,
   "metadata": {},
   "outputs": [],
   "source": [
    "item_categories['split'] = item_categories['item_category_name'].str.split('-')\n",
    "item_categories['type'] = item_categories['split'].map(lambda x: x[0].strip())\n",
    "item_categories['subtype'] = item_categories['split'].map(lambda x: x[1].strip() if len(x) > 1 else x[0].strip())"
   ]
  },
  {
   "cell_type": "code",
   "execution_count": 21,
   "metadata": {},
   "outputs": [],
   "source": [
    "type_eng = ['PC', 'Accessories',' Tickets (Digit) ',' Delivery of goods',\n",
    "               'Game consoles',' Games', 'Android games',' MAC games', 'PC games',\n",
    "               ' Payment cards (Cinema, Music, Games) ',' Payment cards', 'Cinema',\n",
    "               'Books',' Music ',' Gifts', 'Programs',' Office ',' Blank media (spire) ',\n",
    "               ' Blank media (piece) ' , 'Batteries']\n",
    "\n",
    "type_eng_c = [*map(clean_str, type_eng)]\n",
    "item_categories['type'].replace(to_replace=[*item_categories['type'].unique()], value=type_eng_c, inplace=True)"
   ]
  },
  {
   "cell_type": "code",
   "execution_count": 22,
   "metadata": {},
   "outputs": [],
   "source": [
    "subtype_eng = ['Headsets / Earphones',' PS2 ',' PS3 ',' PS4 ',' PSP ',' PSVita ',' XBOX 360 ',' XBOX ONE ',\n",
    "               ' Tickets (Digit) ',' Delivery of goods', 'Other ',' Accessories for games ',' Digit ',' Additional editions ',\n",
    "               ' Collector\\'s editions ',' Standard editions ',' Payment cards (Cinema, Music, Games) ',' Live! ',' Live! (Digit) ',\n",
    "               ' PSN ',' Windows (Digit) ',' Blu ',' DVD ',' Collectible ',' Artbooks, Encyclopedias', 'Audiobooks',' Audiobooks (Digit) ',\n",
    "               ' Audiobooks 1C ', 'Business literature', 'Comics, manga', 'Computer literature', 'Methodological materials 1C', 'Postcards',\n",
    "               ' Informative literature ',' Guides', 'Fiction', 'CD of local production', 'CD of corporate production ',' MP3 ',' Vinyl ',\n",
    "               ' Music video ',' Gift editions', 'Attributes',' Gadgets, robots, sports', 'Soft toys',' Board games', 'Board games (compact)',\n",
    "               'Postcards, stickers',' Development ',' Sert certificates, services ',' Souvenirs ',' Souvenirs (in bulk) ',' Bags, Albums, Mouse pads ',\n",
    "               ' Figures ',' 1C: Enterprise 8 ',' MAC (Digit) ',' For home and office ',' For home and office (Digital) ',' Educational ',\n",
    "               ' Educational (Digital) ',' Office ',' Tickets ',' Blank media (spire) ',' Clean media (piece) ',' Elements nutrition ']\n",
    "\n",
    "def remove_spaces(string):\n",
    "    start_end_spaces = re.compile(r\"(\\A\\s|\\s\\Z)\")\n",
    "    cleaned = re.sub(start_end_spaces, \"\", string)\n",
    "    return cleaned\n",
    "\n",
    "subtype_eng_c = [*map(remove_spaces, subtype_eng)]\n",
    "item_categories['subtype'].replace(to_replace=[*item_categories['subtype'].unique()], value=subtype_eng_c, inplace=True)"
   ]
  },
  {
   "cell_type": "code",
   "execution_count": 23,
   "metadata": {},
   "outputs": [
    {
     "data": {
      "text/html": [
       "<div>\n",
       "<style scoped>\n",
       "    .dataframe tbody tr th:only-of-type {\n",
       "        vertical-align: middle;\n",
       "    }\n",
       "\n",
       "    .dataframe tbody tr th {\n",
       "        vertical-align: top;\n",
       "    }\n",
       "\n",
       "    .dataframe thead th {\n",
       "        text-align: right;\n",
       "    }\n",
       "</style>\n",
       "<table border=\"1\" class=\"dataframe\">\n",
       "  <thead>\n",
       "    <tr style=\"text-align: right;\">\n",
       "      <th></th>\n",
       "      <th>item_category_id</th>\n",
       "      <th>type</th>\n",
       "      <th>subtype</th>\n",
       "    </tr>\n",
       "  </thead>\n",
       "  <tbody>\n",
       "    <tr>\n",
       "      <th>0</th>\n",
       "      <td>0</td>\n",
       "      <td>PC</td>\n",
       "      <td>Headsets / Earphones</td>\n",
       "    </tr>\n",
       "    <tr>\n",
       "      <th>1</th>\n",
       "      <td>1</td>\n",
       "      <td>Accessories</td>\n",
       "      <td>PS2</td>\n",
       "    </tr>\n",
       "    <tr>\n",
       "      <th>2</th>\n",
       "      <td>2</td>\n",
       "      <td>Accessories</td>\n",
       "      <td>PS3</td>\n",
       "    </tr>\n",
       "    <tr>\n",
       "      <th>3</th>\n",
       "      <td>3</td>\n",
       "      <td>Accessories</td>\n",
       "      <td>PS4</td>\n",
       "    </tr>\n",
       "    <tr>\n",
       "      <th>4</th>\n",
       "      <td>4</td>\n",
       "      <td>Accessories</td>\n",
       "      <td>PSP</td>\n",
       "    </tr>\n",
       "    <tr>\n",
       "      <th>...</th>\n",
       "      <td>...</td>\n",
       "      <td>...</td>\n",
       "      <td>...</td>\n",
       "    </tr>\n",
       "    <tr>\n",
       "      <th>79</th>\n",
       "      <td>79</td>\n",
       "      <td>Office</td>\n",
       "      <td>Office</td>\n",
       "    </tr>\n",
       "    <tr>\n",
       "      <th>80</th>\n",
       "      <td>80</td>\n",
       "      <td>Office</td>\n",
       "      <td>Tickets</td>\n",
       "    </tr>\n",
       "    <tr>\n",
       "      <th>81</th>\n",
       "      <td>81</td>\n",
       "      <td>Blank media spire</td>\n",
       "      <td>Blank media (spire)</td>\n",
       "    </tr>\n",
       "    <tr>\n",
       "      <th>82</th>\n",
       "      <td>82</td>\n",
       "      <td>Blank media piece</td>\n",
       "      <td>Clean media (piece)</td>\n",
       "    </tr>\n",
       "    <tr>\n",
       "      <th>83</th>\n",
       "      <td>83</td>\n",
       "      <td>Batteries</td>\n",
       "      <td>Elements nutrition</td>\n",
       "    </tr>\n",
       "  </tbody>\n",
       "</table>\n",
       "<p>84 rows × 3 columns</p>\n",
       "</div>"
      ],
      "text/plain": [
       "    item_category_id               type               subtype\n",
       "0                  0                 PC  Headsets / Earphones\n",
       "1                  1        Accessories                   PS2\n",
       "2                  2        Accessories                   PS3\n",
       "3                  3        Accessories                   PS4\n",
       "4                  4        Accessories                   PSP\n",
       "..               ...                ...                   ...\n",
       "79                79             Office                Office\n",
       "80                80             Office               Tickets\n",
       "81                81  Blank media spire   Blank media (spire)\n",
       "82                82  Blank media piece   Clean media (piece)\n",
       "83                83          Batteries    Elements nutrition\n",
       "\n",
       "[84 rows x 3 columns]"
      ]
     },
     "execution_count": 23,
     "metadata": {},
     "output_type": "execute_result"
    }
   ],
   "source": [
    "item_categories = item_categories[['item_category_id','type', 'subtype']]\n",
    "item_categories"
   ]
  },
  {
   "cell_type": "code",
   "execution_count": 24,
   "metadata": {},
   "outputs": [
    {
     "name": "stdout",
     "output_type": "stream",
     "text": [
      "(22170, 3)\n"
     ]
    },
    {
     "data": {
      "text/html": [
       "<div>\n",
       "<style scoped>\n",
       "    .dataframe tbody tr th:only-of-type {\n",
       "        vertical-align: middle;\n",
       "    }\n",
       "\n",
       "    .dataframe tbody tr th {\n",
       "        vertical-align: top;\n",
       "    }\n",
       "\n",
       "    .dataframe thead th {\n",
       "        text-align: right;\n",
       "    }\n",
       "</style>\n",
       "<table border=\"1\" class=\"dataframe\">\n",
       "  <thead>\n",
       "    <tr style=\"text-align: right;\">\n",
       "      <th></th>\n",
       "      <th>item_name</th>\n",
       "      <th>item_id</th>\n",
       "      <th>item_category_id</th>\n",
       "    </tr>\n",
       "  </thead>\n",
       "  <tbody>\n",
       "    <tr>\n",
       "      <th>0</th>\n",
       "      <td>! ВО ВЛАСТИ НАВАЖДЕНИЯ (ПЛАСТ.)         D</td>\n",
       "      <td>0</td>\n",
       "      <td>40</td>\n",
       "    </tr>\n",
       "    <tr>\n",
       "      <th>1</th>\n",
       "      <td>!ABBYY FineReader 12 Professional Edition Full...</td>\n",
       "      <td>1</td>\n",
       "      <td>76</td>\n",
       "    </tr>\n",
       "    <tr>\n",
       "      <th>2</th>\n",
       "      <td>***В ЛУЧАХ СЛАВЫ   (UNV)                    D</td>\n",
       "      <td>2</td>\n",
       "      <td>40</td>\n",
       "    </tr>\n",
       "    <tr>\n",
       "      <th>3</th>\n",
       "      <td>***ГОЛУБАЯ ВОЛНА  (Univ)                      D</td>\n",
       "      <td>3</td>\n",
       "      <td>40</td>\n",
       "    </tr>\n",
       "    <tr>\n",
       "      <th>4</th>\n",
       "      <td>***КОРОБКА (СТЕКЛО)                       D</td>\n",
       "      <td>4</td>\n",
       "      <td>40</td>\n",
       "    </tr>\n",
       "  </tbody>\n",
       "</table>\n",
       "</div>"
      ],
      "text/plain": [
       "                                           item_name  item_id  \\\n",
       "0          ! ВО ВЛАСТИ НАВАЖДЕНИЯ (ПЛАСТ.)         D        0   \n",
       "1  !ABBYY FineReader 12 Professional Edition Full...        1   \n",
       "2      ***В ЛУЧАХ СЛАВЫ   (UNV)                    D        2   \n",
       "3    ***ГОЛУБАЯ ВОЛНА  (Univ)                      D        3   \n",
       "4        ***КОРОБКА (СТЕКЛО)                       D        4   \n",
       "\n",
       "   item_category_id  \n",
       "0                40  \n",
       "1                76  \n",
       "2                40  \n",
       "3                40  \n",
       "4                40  "
      ]
     },
     "execution_count": 24,
     "metadata": {},
     "output_type": "execute_result"
    }
   ],
   "source": [
    "print(items.shape)\n",
    "items.head()"
   ]
  },
  {
   "cell_type": "code",
   "execution_count": 25,
   "metadata": {},
   "outputs": [],
   "source": [
    "items.drop('item_name', axis=1, inplace=True)"
   ]
  },
  {
   "cell_type": "code",
   "execution_count": 28,
   "metadata": {},
   "outputs": [],
   "source": [
    "train = transactions\\\n",
    "            .merge(items, on='item_id')\\\n",
    "            .merge(shops, on='shop_id')\\\n",
    "            .merge(item_categories, on='item_category_id', suffixes=(False, False))"
   ]
  },
  {
   "cell_type": "code",
   "execution_count": 29,
   "metadata": {},
   "outputs": [
    {
     "data": {
      "text/html": [
       "<div>\n",
       "<style scoped>\n",
       "    .dataframe tbody tr th:only-of-type {\n",
       "        vertical-align: middle;\n",
       "    }\n",
       "\n",
       "    .dataframe tbody tr th {\n",
       "        vertical-align: top;\n",
       "    }\n",
       "\n",
       "    .dataframe thead th {\n",
       "        text-align: right;\n",
       "    }\n",
       "</style>\n",
       "<table border=\"1\" class=\"dataframe\">\n",
       "  <thead>\n",
       "    <tr style=\"text-align: right;\">\n",
       "      <th></th>\n",
       "      <th>date</th>\n",
       "      <th>date_block_num</th>\n",
       "      <th>shop_id</th>\n",
       "      <th>item_id</th>\n",
       "      <th>item_price</th>\n",
       "      <th>item_cnt_day</th>\n",
       "      <th>item_category_id</th>\n",
       "      <th>shop_name</th>\n",
       "      <th>city</th>\n",
       "      <th>type</th>\n",
       "      <th>subtype</th>\n",
       "    </tr>\n",
       "  </thead>\n",
       "  <tbody>\n",
       "    <tr>\n",
       "      <th>0</th>\n",
       "      <td>02.01.2013</td>\n",
       "      <td>0</td>\n",
       "      <td>59</td>\n",
       "      <td>22154</td>\n",
       "      <td>999.0</td>\n",
       "      <td>1.0</td>\n",
       "      <td>37</td>\n",
       "      <td>Ярославль ТЦ \"Альтаир\"</td>\n",
       "      <td>Yaroslavl</td>\n",
       "      <td>Cinema</td>\n",
       "      <td>Blu</td>\n",
       "    </tr>\n",
       "    <tr>\n",
       "      <th>1</th>\n",
       "      <td>26.04.2013</td>\n",
       "      <td>3</td>\n",
       "      <td>59</td>\n",
       "      <td>944</td>\n",
       "      <td>150.0</td>\n",
       "      <td>1.0</td>\n",
       "      <td>37</td>\n",
       "      <td>Ярославль ТЦ \"Альтаир\"</td>\n",
       "      <td>Yaroslavl</td>\n",
       "      <td>Cinema</td>\n",
       "      <td>Blu</td>\n",
       "    </tr>\n",
       "    <tr>\n",
       "      <th>2</th>\n",
       "      <td>26.06.2013</td>\n",
       "      <td>5</td>\n",
       "      <td>59</td>\n",
       "      <td>944</td>\n",
       "      <td>199.5</td>\n",
       "      <td>1.0</td>\n",
       "      <td>37</td>\n",
       "      <td>Ярославль ТЦ \"Альтаир\"</td>\n",
       "      <td>Yaroslavl</td>\n",
       "      <td>Cinema</td>\n",
       "      <td>Blu</td>\n",
       "    </tr>\n",
       "    <tr>\n",
       "      <th>3</th>\n",
       "      <td>20.07.2013</td>\n",
       "      <td>6</td>\n",
       "      <td>59</td>\n",
       "      <td>944</td>\n",
       "      <td>199.5</td>\n",
       "      <td>1.0</td>\n",
       "      <td>37</td>\n",
       "      <td>Ярославль ТЦ \"Альтаир\"</td>\n",
       "      <td>Yaroslavl</td>\n",
       "      <td>Cinema</td>\n",
       "      <td>Blu</td>\n",
       "    </tr>\n",
       "    <tr>\n",
       "      <th>4</th>\n",
       "      <td>14.09.2013</td>\n",
       "      <td>8</td>\n",
       "      <td>59</td>\n",
       "      <td>944</td>\n",
       "      <td>299.0</td>\n",
       "      <td>2.0</td>\n",
       "      <td>37</td>\n",
       "      <td>Ярославль ТЦ \"Альтаир\"</td>\n",
       "      <td>Yaroslavl</td>\n",
       "      <td>Cinema</td>\n",
       "      <td>Blu</td>\n",
       "    </tr>\n",
       "  </tbody>\n",
       "</table>\n",
       "</div>"
      ],
      "text/plain": [
       "         date  date_block_num  shop_id  item_id  item_price  item_cnt_day  \\\n",
       "0  02.01.2013               0       59    22154       999.0           1.0   \n",
       "1  26.04.2013               3       59      944       150.0           1.0   \n",
       "2  26.06.2013               5       59      944       199.5           1.0   \n",
       "3  20.07.2013               6       59      944       199.5           1.0   \n",
       "4  14.09.2013               8       59      944       299.0           2.0   \n",
       "\n",
       "   item_category_id               shop_name       city    type subtype  \n",
       "0                37  Ярославль ТЦ \"Альтаир\"  Yaroslavl  Cinema     Blu  \n",
       "1                37  Ярославль ТЦ \"Альтаир\"  Yaroslavl  Cinema     Blu  \n",
       "2                37  Ярославль ТЦ \"Альтаир\"  Yaroslavl  Cinema     Blu  \n",
       "3                37  Ярославль ТЦ \"Альтаир\"  Yaroslavl  Cinema     Blu  \n",
       "4                37  Ярославль ТЦ \"Альтаир\"  Yaroslavl  Cinema     Blu  "
      ]
     },
     "execution_count": 29,
     "metadata": {},
     "output_type": "execute_result"
    }
   ],
   "source": [
    "train.head()"
   ]
  },
  {
   "cell_type": "code",
   "execution_count": 30,
   "metadata": {},
   "outputs": [
    {
     "name": "stdout",
     "output_type": "stream",
     "text": [
      "Data set size before leaking: 2928493\n",
      "Data set size after leaking: 1221498\n"
     ]
    }
   ],
   "source": [
    "test_shop_ids = test['shop_id'].unique()\n",
    "test_item_ids = test['item_id'].unique()\n",
    "# Only shops that exist in test set.\n",
    "lk_train = train[train['shop_id'].isin(test_shop_ids)]\n",
    "# Only items that exist in test set.\n",
    "lk_train = lk_train[lk_train['item_id'].isin(test_item_ids)]\n",
    "\n",
    "print('Data set size before leaking:', train.shape[0])\n",
    "print('Data set size after leaking:', lk_train.shape[0])\n",
    "\n"
   ]
  },
  {
   "cell_type": "markdown",
   "metadata": {},
   "source": [
    "### Data Preparation"
   ]
  },
  {
   "cell_type": "code",
   "execution_count": 38,
   "metadata": {},
   "outputs": [],
   "source": [
    "train = train.query('item_price > 0')"
   ]
  },
  {
   "cell_type": "code",
   "execution_count": 39,
   "metadata": {},
   "outputs": [
    {
     "data": {
      "text/plain": [
       "0"
      ]
     },
     "execution_count": 39,
     "metadata": {},
     "output_type": "execute_result"
    }
   ],
   "source": [
    "lk_train.query('item_cnt_day <= 0').sort_values('item_cnt_day', ascending=True).shape[0]"
   ]
  },
  {
   "cell_type": "code",
   "execution_count": 40,
   "metadata": {},
   "outputs": [],
   "source": [
    "train_monthly = lk_train[['date', 'date_block_num', 'shop_id', 'item_category_id', 'item_id', 'item_price', 'item_cnt_day']]"
   ]
  },
  {
   "cell_type": "code",
   "execution_count": null,
   "metadata": {},
   "outputs": [],
   "source": [
    "train_monthly['date'] = pd.to_datetime(train_monthly['date'], format='%d.%m.%Y')\n",
    "train_monthly = train_monthly.sort_values('date')"
   ]
  },
  {
   "cell_type": "code",
   "execution_count": 42,
   "metadata": {},
   "outputs": [
    {
     "data": {
      "text/html": [
       "<div>\n",
       "<style scoped>\n",
       "    .dataframe tbody tr th:only-of-type {\n",
       "        vertical-align: middle;\n",
       "    }\n",
       "\n",
       "    .dataframe tbody tr th {\n",
       "        vertical-align: top;\n",
       "    }\n",
       "\n",
       "    .dataframe thead th {\n",
       "        text-align: right;\n",
       "    }\n",
       "</style>\n",
       "<table border=\"1\" class=\"dataframe\">\n",
       "  <thead>\n",
       "    <tr style=\"text-align: right;\">\n",
       "      <th></th>\n",
       "      <th>date</th>\n",
       "      <th>date_block_num</th>\n",
       "      <th>shop_id</th>\n",
       "      <th>item_category_id</th>\n",
       "      <th>item_id</th>\n",
       "      <th>item_price</th>\n",
       "      <th>item_cnt_day</th>\n",
       "    </tr>\n",
       "  </thead>\n",
       "  <tbody>\n",
       "    <tr>\n",
       "      <th>1619166</th>\n",
       "      <td>2013-01-01</td>\n",
       "      <td>0</td>\n",
       "      <td>37</td>\n",
       "      <td>40</td>\n",
       "      <td>16450</td>\n",
       "      <td>399.0</td>\n",
       "      <td>1.0</td>\n",
       "    </tr>\n",
       "    <tr>\n",
       "      <th>462129</th>\n",
       "      <td>2013-01-01</td>\n",
       "      <td>0</td>\n",
       "      <td>14</td>\n",
       "      <td>55</td>\n",
       "      <td>1249</td>\n",
       "      <td>299.0</td>\n",
       "      <td>1.0</td>\n",
       "    </tr>\n",
       "    <tr>\n",
       "      <th>959582</th>\n",
       "      <td>2013-01-01</td>\n",
       "      <td>0</td>\n",
       "      <td>7</td>\n",
       "      <td>30</td>\n",
       "      <td>5811</td>\n",
       "      <td>199.0</td>\n",
       "      <td>1.0</td>\n",
       "    </tr>\n",
       "    <tr>\n",
       "      <th>1594900</th>\n",
       "      <td>2013-01-01</td>\n",
       "      <td>0</td>\n",
       "      <td>42</td>\n",
       "      <td>40</td>\n",
       "      <td>19597</td>\n",
       "      <td>149.0</td>\n",
       "      <td>1.0</td>\n",
       "    </tr>\n",
       "    <tr>\n",
       "      <th>333155</th>\n",
       "      <td>2013-01-01</td>\n",
       "      <td>0</td>\n",
       "      <td>46</td>\n",
       "      <td>55</td>\n",
       "      <td>13881</td>\n",
       "      <td>549.0</td>\n",
       "      <td>1.0</td>\n",
       "    </tr>\n",
       "  </tbody>\n",
       "</table>\n",
       "</div>"
      ],
      "text/plain": [
       "              date  date_block_num  shop_id  item_category_id  item_id  \\\n",
       "1619166 2013-01-01               0       37                40    16450   \n",
       "462129  2013-01-01               0       14                55     1249   \n",
       "959582  2013-01-01               0        7                30     5811   \n",
       "1594900 2013-01-01               0       42                40    19597   \n",
       "333155  2013-01-01               0       46                55    13881   \n",
       "\n",
       "         item_price  item_cnt_day  \n",
       "1619166       399.0           1.0  \n",
       "462129        299.0           1.0  \n",
       "959582        199.0           1.0  \n",
       "1594900       149.0           1.0  \n",
       "333155        549.0           1.0  "
      ]
     },
     "execution_count": 42,
     "metadata": {},
     "output_type": "execute_result"
    }
   ],
   "source": [
    "train_monthly.head()"
   ]
  },
  {
   "cell_type": "code",
   "execution_count": 43,
   "metadata": {},
   "outputs": [],
   "source": [
    "train_monthly = train_monthly\\\n",
    "                            .groupby(['date_block_num', 'shop_id', 'item_category_id', 'item_id'], as_index=False)\\\n",
    "                            .agg({'item_price':['sum', 'mean'], 'item_cnt_day':['sum', 'mean','count']})"
   ]
  },
  {
   "cell_type": "code",
   "execution_count": 44,
   "metadata": {},
   "outputs": [
    {
     "data": {
      "text/html": [
       "<div>\n",
       "<style scoped>\n",
       "    .dataframe tbody tr th:only-of-type {\n",
       "        vertical-align: middle;\n",
       "    }\n",
       "\n",
       "    .dataframe tbody tr th {\n",
       "        vertical-align: top;\n",
       "    }\n",
       "\n",
       "    .dataframe thead tr th {\n",
       "        text-align: left;\n",
       "    }\n",
       "</style>\n",
       "<table border=\"1\" class=\"dataframe\">\n",
       "  <thead>\n",
       "    <tr>\n",
       "      <th></th>\n",
       "      <th>date_block_num</th>\n",
       "      <th>shop_id</th>\n",
       "      <th>item_category_id</th>\n",
       "      <th>item_id</th>\n",
       "      <th colspan=\"2\" halign=\"left\">item_price</th>\n",
       "      <th colspan=\"3\" halign=\"left\">item_cnt_day</th>\n",
       "    </tr>\n",
       "    <tr>\n",
       "      <th></th>\n",
       "      <th></th>\n",
       "      <th></th>\n",
       "      <th></th>\n",
       "      <th></th>\n",
       "      <th>sum</th>\n",
       "      <th>mean</th>\n",
       "      <th>sum</th>\n",
       "      <th>mean</th>\n",
       "      <th>count</th>\n",
       "    </tr>\n",
       "  </thead>\n",
       "  <tbody>\n",
       "    <tr>\n",
       "      <th>599907</th>\n",
       "      <td>33</td>\n",
       "      <td>59</td>\n",
       "      <td>75</td>\n",
       "      <td>5383</td>\n",
       "      <td>4390.0</td>\n",
       "      <td>4390.00</td>\n",
       "      <td>1.0</td>\n",
       "      <td>1.0</td>\n",
       "      <td>1</td>\n",
       "    </tr>\n",
       "    <tr>\n",
       "      <th>599908</th>\n",
       "      <td>33</td>\n",
       "      <td>59</td>\n",
       "      <td>79</td>\n",
       "      <td>17717</td>\n",
       "      <td>8025.5</td>\n",
       "      <td>802.55</td>\n",
       "      <td>13.0</td>\n",
       "      <td>1.3</td>\n",
       "      <td>10</td>\n",
       "    </tr>\n",
       "    <tr>\n",
       "      <th>599909</th>\n",
       "      <td>33</td>\n",
       "      <td>59</td>\n",
       "      <td>83</td>\n",
       "      <td>22087</td>\n",
       "      <td>357.0</td>\n",
       "      <td>119.00</td>\n",
       "      <td>6.0</td>\n",
       "      <td>2.0</td>\n",
       "      <td>3</td>\n",
       "    </tr>\n",
       "    <tr>\n",
       "      <th>599910</th>\n",
       "      <td>33</td>\n",
       "      <td>59</td>\n",
       "      <td>83</td>\n",
       "      <td>22088</td>\n",
       "      <td>238.0</td>\n",
       "      <td>119.00</td>\n",
       "      <td>2.0</td>\n",
       "      <td>1.0</td>\n",
       "      <td>2</td>\n",
       "    </tr>\n",
       "    <tr>\n",
       "      <th>599911</th>\n",
       "      <td>33</td>\n",
       "      <td>59</td>\n",
       "      <td>83</td>\n",
       "      <td>22091</td>\n",
       "      <td>179.0</td>\n",
       "      <td>179.00</td>\n",
       "      <td>1.0</td>\n",
       "      <td>1.0</td>\n",
       "      <td>1</td>\n",
       "    </tr>\n",
       "  </tbody>\n",
       "</table>\n",
       "</div>"
      ],
      "text/plain": [
       "       date_block_num shop_id item_category_id item_id item_price           \\\n",
       "                                                              sum     mean   \n",
       "599907             33      59               75    5383     4390.0  4390.00   \n",
       "599908             33      59               79   17717     8025.5   802.55   \n",
       "599909             33      59               83   22087      357.0   119.00   \n",
       "599910             33      59               83   22088      238.0   119.00   \n",
       "599911             33      59               83   22091      179.0   179.00   \n",
       "\n",
       "       item_cnt_day             \n",
       "                sum mean count  \n",
       "599907          1.0  1.0     1  \n",
       "599908         13.0  1.3    10  \n",
       "599909          6.0  2.0     3  \n",
       "599910          2.0  1.0     2  \n",
       "599911          1.0  1.0     1  "
      ]
     },
     "execution_count": 44,
     "metadata": {},
     "output_type": "execute_result"
    }
   ],
   "source": [
    "train_monthly.tail()"
   ]
  },
  {
   "cell_type": "code",
   "execution_count": 38,
   "metadata": {},
   "outputs": [
    {
     "data": {
      "text/plain": [
       "('item_price', 'sum')"
      ]
     },
     "execution_count": 38,
     "metadata": {},
     "output_type": "execute_result"
    }
   ],
   "source": [
    "[*train_monthly.columns.values][4]"
   ]
  },
  {
   "cell_type": "code",
   "execution_count": 39,
   "metadata": {},
   "outputs": [
    {
     "data": {
      "text/plain": [
       "'item_price sum'"
      ]
     },
     "execution_count": 39,
     "metadata": {},
     "output_type": "execute_result"
    }
   ],
   "source": [
    "' '.join([*train_monthly.columns.values][4])"
   ]
  },
  {
   "cell_type": "code",
   "execution_count": 45,
   "metadata": {},
   "outputs": [],
   "source": [
    "train_monthly.columns = ['date_block_num', 'shop_id', 'item_category_id', 'item_id', 'revenue', 'mean_item_price', 'item_cnt', 'mean_item_cnt', 'transactions']"
   ]
  },
  {
   "cell_type": "code",
   "execution_count": 46,
   "metadata": {},
   "outputs": [],
   "source": [
    "# train_monthly.columns = [' '.join(col).strip() for col in train_monthly.columns.values]"
   ]
  },
  {
   "cell_type": "code",
   "execution_count": 47,
   "metadata": {},
   "outputs": [
    {
     "data": {
      "text/html": [
       "<div>\n",
       "<style scoped>\n",
       "    .dataframe tbody tr th:only-of-type {\n",
       "        vertical-align: middle;\n",
       "    }\n",
       "\n",
       "    .dataframe tbody tr th {\n",
       "        vertical-align: top;\n",
       "    }\n",
       "\n",
       "    .dataframe thead th {\n",
       "        text-align: right;\n",
       "    }\n",
       "</style>\n",
       "<table border=\"1\" class=\"dataframe\">\n",
       "  <thead>\n",
       "    <tr style=\"text-align: right;\">\n",
       "      <th></th>\n",
       "      <th>date_block_num</th>\n",
       "      <th>shop_id</th>\n",
       "      <th>item_category_id</th>\n",
       "      <th>item_id</th>\n",
       "      <th>revenue</th>\n",
       "      <th>mean_item_price</th>\n",
       "      <th>item_cnt</th>\n",
       "      <th>mean_item_cnt</th>\n",
       "      <th>transactions</th>\n",
       "    </tr>\n",
       "  </thead>\n",
       "  <tbody>\n",
       "    <tr>\n",
       "      <th>0</th>\n",
       "      <td>0</td>\n",
       "      <td>2</td>\n",
       "      <td>2</td>\n",
       "      <td>5572</td>\n",
       "      <td>10730.0</td>\n",
       "      <td>1532.857143</td>\n",
       "      <td>9.0</td>\n",
       "      <td>1.285714</td>\n",
       "      <td>7</td>\n",
       "    </tr>\n",
       "    <tr>\n",
       "      <th>1</th>\n",
       "      <td>0</td>\n",
       "      <td>2</td>\n",
       "      <td>2</td>\n",
       "      <td>5643</td>\n",
       "      <td>2390.0</td>\n",
       "      <td>2390.000000</td>\n",
       "      <td>1.0</td>\n",
       "      <td>1.000000</td>\n",
       "      <td>1</td>\n",
       "    </tr>\n",
       "    <tr>\n",
       "      <th>2</th>\n",
       "      <td>0</td>\n",
       "      <td>2</td>\n",
       "      <td>5</td>\n",
       "      <td>5583</td>\n",
       "      <td>1188.3</td>\n",
       "      <td>594.150000</td>\n",
       "      <td>2.0</td>\n",
       "      <td>1.000000</td>\n",
       "      <td>2</td>\n",
       "    </tr>\n",
       "    <tr>\n",
       "      <th>3</th>\n",
       "      <td>0</td>\n",
       "      <td>2</td>\n",
       "      <td>6</td>\n",
       "      <td>7893</td>\n",
       "      <td>5970.0</td>\n",
       "      <td>1990.000000</td>\n",
       "      <td>3.0</td>\n",
       "      <td>1.000000</td>\n",
       "      <td>3</td>\n",
       "    </tr>\n",
       "    <tr>\n",
       "      <th>4</th>\n",
       "      <td>0</td>\n",
       "      <td>2</td>\n",
       "      <td>6</td>\n",
       "      <td>7894</td>\n",
       "      <td>1490.0</td>\n",
       "      <td>1490.000000</td>\n",
       "      <td>1.0</td>\n",
       "      <td>1.000000</td>\n",
       "      <td>1</td>\n",
       "    </tr>\n",
       "  </tbody>\n",
       "</table>\n",
       "</div>"
      ],
      "text/plain": [
       "   date_block_num  shop_id  item_category_id  item_id  revenue  \\\n",
       "0               0        2                 2     5572  10730.0   \n",
       "1               0        2                 2     5643   2390.0   \n",
       "2               0        2                 5     5583   1188.3   \n",
       "3               0        2                 6     7893   5970.0   \n",
       "4               0        2                 6     7894   1490.0   \n",
       "\n",
       "   mean_item_price  item_cnt  mean_item_cnt  transactions  \n",
       "0      1532.857143       9.0       1.285714             7  \n",
       "1      2390.000000       1.0       1.000000             1  \n",
       "2       594.150000       2.0       1.000000             2  \n",
       "3      1990.000000       3.0       1.000000             3  \n",
       "4      1490.000000       1.0       1.000000             1  "
      ]
     },
     "execution_count": 47,
     "metadata": {},
     "output_type": "execute_result"
    }
   ],
   "source": [
    "train_monthly.head()"
   ]
  },
  {
   "cell_type": "markdown",
   "metadata": {},
   "source": [
    "## Which Category accounts for the most revenue?"
   ]
  },
  {
   "cell_type": "code",
   "execution_count": 263,
   "metadata": {},
   "outputs": [],
   "source": [
    "category_sum = train_monthly.groupby(['item_category_id'], as_index=False)['revenue'].sum()/train_monthly.revenue.sum()\n",
    "\n",
    "item_sum = train_monthly.groupby(['month'], as_index=False)['item_cnt'].sum()\n",
    "\n",
    "shop_sum = train_monthly.groupby(['shop_id'], as_index=False)['item_cnt'].sum()"
   ]
  },
  {
   "cell_type": "code",
   "execution_count": 257,
   "metadata": {},
   "outputs": [
    {
     "data": {
      "image/png": "[encoded data removed]",
      "text/plain": [
       "<Figure size 800x400 with 1 Axes>"
      ]
     },
     "metadata": {},
     "output_type": "display_data"
    }
   ],
   "source": [
    "from matplotlib.ticker import FormatStrFormatter\n",
    "\n",
    "sns.set_style('dark')\n",
    "fig, ax = plt.subplots(figsize=(8, 4), dpi=100)\n",
    "sns.barplot(x=\"item_category_id\", y=\"revenue\", data=category_sum, color='purple').set_title(\"Revenue % by category\")\n",
    "plt.setp(ax.get_xticklabels(), rotation=90)\n",
    "ax.xaxis.set_major_formatter(FormatStrFormatter('%.0f'))\n",
    "ax.set_xlabel(\"Item Category\", fontweight='bold')\n",
    "ax.set_ylabel(\"Revenue %\", fontweight='bold')\n",
    "plt.show()"
   ]
  },
  {
   "cell_type": "markdown",
   "metadata": {},
   "source": [
    "# Item sales by month of the year"
   ]
  },
  {
   "cell_type": "code",
   "execution_count": 262,
   "metadata": {},
   "outputs": [
    {
     "data": {
      "image/png": "[encoded data removed]",
      "text/plain": [
       "<Figure size 800x400 with 1 Axes>"
      ]
     },
     "metadata": {},
     "output_type": "display_data"
    }
   ],
   "source": [
    "fig, ax = plt.subplots(figsize=(8, 4), dpi=100)\n",
    "sns.barplot(x=\"month\", y=\"item_cnt\", data=item_sum, color='purple').set_title(\"Item sales by Month\")\n",
    "plt.setp(ax.get_xticklabels(), rotation=90)\n",
    "ax.xaxis.set_major_formatter(FormatStrFormatter('%.0f'))\n",
    "ax.set_xlabel(\"Month of the year\", fontweight='bold')\n",
    "ax.set_ylabel(\"Item count\", fontweight='bold')\n",
    "plt.show()"
   ]
  },
  {
   "cell_type": "markdown",
   "metadata": {},
   "source": [
    "# Which Shop accounts for the most revenue?"
   ]
  },
  {
   "cell_type": "code",
   "execution_count": 265,
   "metadata": {},
   "outputs": [
    {
     "data": {
      "image/png": "[encoded data removed]",
      "text/plain": [
       "<Figure size 800x400 with 1 Axes>"
      ]
     },
     "metadata": {},
     "output_type": "display_data"
    }
   ],
   "source": [
    "fig, ax = plt.subplots(figsize=(8, 4), dpi=100)\n",
    "sns.barplot(x=\"shop_id\", y=\"item_cnt\", data=shop_sum, color='purple').set_title(\"Item count per shop\")\n",
    "plt.setp(ax.get_xticklabels(), rotation=90)\n",
    "ax.xaxis.set_major_formatter(FormatStrFormatter('%.0f'))\n",
    "ax.set_xlabel(\"Shop Id\", fontweight='bold')\n",
    "ax.set_ylabel(\"Item count\", fontweight='bold')\n",
    "plt.show()"
   ]
  },
  {
   "cell_type": "code",
   "execution_count": null,
   "metadata": {},
   "outputs": [],
   "source": [
    "fig, ax = plt.subplots(figsize=(8, 4), dpi=100)\n",
    "sns.barplot(x=\"item_category_id\", y=\"revenue\", data=category_sum, color='purple').set_title(\"Monthly revenue\")\n",
    "plt.setp(ax.get_xticklabels(), rotation=90)\n",
    "ax.xaxis.set_major_formatter(FormatStrFormatter('%.0f'))\n",
    "ax.set_xlabel(\"Item Category\", fontweight='bold')\n",
    "ax.set_ylabel(\"Revenue %\", fontweight='bold')\n",
    "plt.show()"
   ]
  },
  {
   "cell_type": "code",
   "execution_count": 48,
   "metadata": {},
   "outputs": [],
   "source": [
    "shop_ids = train_monthly['shop_id'].unique()\n",
    "item_ids = train_monthly['item_id'].unique()\n",
    "empty_df = []\n",
    "for i in range(34):\n",
    "    for shop in shop_ids:\n",
    "        for item in item_ids:\n",
    "            empty_df.append([i, shop, item])\n",
    "    \n",
    "empty_df = pd.DataFrame(empty_df, columns=['date_block_num','shop_id','item_id'])"
   ]
  },
  {
   "cell_type": "code",
   "execution_count": 52,
   "metadata": {},
   "outputs": [
    {
     "name": "stdout",
     "output_type": "stream",
     "text": [
      "Shape of train_monthly: (599912, 9)\n",
      "Shape of empty_df: (6734448, 3)\n"
     ]
    }
   ],
   "source": [
    "print(f\"Shape of train_monthly: {train_monthly.shape}\\nShape of empty_df: {empty_df.shape}\")"
   ]
  },
  {
   "cell_type": "code",
   "execution_count": 53,
   "metadata": {},
   "outputs": [],
   "source": [
    "train_monthly_merged = pd.merge(empty_df, train_monthly, on=['date_block_num','shop_id','item_id'], how='left')"
   ]
  },
  {
   "cell_type": "code",
   "execution_count": 54,
   "metadata": {},
   "outputs": [
    {
     "data": {
      "image/png": "[encoded data removed]",
      "text/plain": [
       "<Figure size 1800x720 with 2 Axes>"
      ]
     },
     "metadata": {
      "needs_background": "light"
     },
     "output_type": "display_data"
    }
   ],
   "source": [
    "import missingno as msno\n",
    "msno.matrix(train_monthly_merged)\n",
    "plt.show()"
   ]
  },
  {
   "cell_type": "code",
   "execution_count": 55,
   "metadata": {},
   "outputs": [],
   "source": [
    "train_monthly = train_monthly_merged.fillna(0)"
   ]
  },
  {
   "cell_type": "code",
   "execution_count": 56,
   "metadata": {},
   "outputs": [
    {
     "name": "stdout",
     "output_type": "stream",
     "text": [
      "There are 6134536 null transactions, or 91.09 %\n"
     ]
    }
   ],
   "source": [
    "### Very sparse data\n",
    "mask = train_monthly['item_cnt'] == 0\n",
    "non_zero = train_monthly[~mask]\n",
    "print(f\"There are {train_monthly.shape[0] - non_zero.shape[0]} null transactions, or {((train_monthly.shape[0] - non_zero.shape[0])/train_monthly.shape[0])*100:0.2f} %\")"
   ]
  },
  {
   "cell_type": "markdown",
   "metadata": {},
   "source": [
    "### Feature Engineering"
   ]
  },
  {
   "cell_type": "markdown",
   "metadata": {},
   "source": [
    "- Year and month"
   ]
  },
  {
   "cell_type": "code",
   "execution_count": 57,
   "metadata": {},
   "outputs": [],
   "source": [
    "train_monthly['year'] = train_monthly['date_block_num'].apply(lambda x: ((x//12) + 2013))\n",
    "train_monthly['month'] = train_monthly['date_block_num'].apply(lambda x: (x % 12))"
   ]
  },
  {
   "cell_type": "markdown",
   "metadata": {},
   "source": [
    "- Item price"
   ]
  },
  {
   "cell_type": "code",
   "execution_count": 58,
   "metadata": {},
   "outputs": [],
   "source": [
    "train_monthly['item_price'] = train_monthly['revenue'] / train_monthly['item_cnt']"
   ]
  },
  {
   "cell_type": "code",
   "execution_count": 59,
   "metadata": {},
   "outputs": [],
   "source": [
    "train_monthly['item_price'].replace(np.NaN, 0, inplace=True)"
   ]
  },
  {
   "cell_type": "markdown",
   "metadata": {},
   "source": [
    "- Lag features"
   ]
  },
  {
   "cell_type": "code",
   "execution_count": 60,
   "metadata": {},
   "outputs": [],
   "source": [
    "lags = [1, 2, 3, 4, 5, 6]\n",
    "\n",
    "def lag_feature(df_in, lags_list, col, group):\n",
    "    \"\"\"\n",
    "    Args:\n",
    "        df\n",
    "        lags (list):\n",
    "        col (str): variable to be shifted\n",
    "        group (list): \n",
    "    \"\"\"\n",
    "    df = df_in.copy()\n",
    "    for lag in lags_list:\n",
    "        df[f'{col}_lag{str(lag)}'] = df.groupby(group)[col].shift(lag).fillna(0)\n",
    "    return df"
   ]
  },
  {
   "cell_type": "code",
   "execution_count": 61,
   "metadata": {},
   "outputs": [],
   "source": [
    "train_monthly = lag_feature(train_monthly, lags, 'item_cnt', ['date_block_num', 'shop_id', 'item_id'])"
   ]
  },
  {
   "cell_type": "markdown",
   "metadata": {},
   "source": [
    "- Trend features"
   ]
  },
  {
   "cell_type": "code",
   "execution_count": 62,
   "metadata": {},
   "outputs": [],
   "source": [
    "def calculate_trend(df_in, lags_list, columns, group_var, replace_value = True, verbose=False):\n",
    "    \n",
    "    '''This function computes the Trend of one or more variables in the input dataset, grouping\n",
    "    by another variable, and adds them to the dataset which is returned. \n",
    "    The Trend is computed as: 100 * (X(t)-X(t-n))/X(t-n), with n=1,...,N\n",
    "    \n",
    "    Inputs:\n",
    "    df_in (obj): DataFrame object, representing the input dataset\n",
    "    lag_list (list of int, default=1): number of lags to apply to the variables of interest.\n",
    "    columns (list of str, default=['Confirmed', 'Deaths','Recovered']): names of the variables on which the function is applied.\n",
    "    group_var\n",
    "    replace_value (bool, default=True): if True, replace +-inf and NaN created when calculating the ratio.\n",
    "    verbose (bool, default=False): if True, the function prints the first 30 rows of the output dataset\n",
    "    \n",
    "    Outputs:\n",
    "    df (obj)\n",
    "\n",
    "    '''\n",
    "    # N = lag\n",
    "    # X_trendN = 100 * [X(t)-X(t-N)]/X(t-N)\n",
    "    \n",
    "    df = df_in.copy()\n",
    "    if isinstance(columns, list) == False:\n",
    "        columns = [columns]\n",
    "\n",
    "    for column in columns:\n",
    "        for lag in lags_list:\n",
    "\n",
    "            df[f'{column}_trend{lag}'] = 100 * (df.groupby(group_var)[column].shift(0) - \\\n",
    "                                                df.groupby(group_var)[column].shift(lag)) / \\\n",
    "                                                df.groupby(group_var)[column].shift(lag)\n",
    "    \n",
    "    if replace_value:\n",
    "        df.replace([np.inf, -np.inf], 0, inplace=True) # generated by n/0\n",
    "        df.fillna(0, inplace=True)                     # generated by 0/0\n",
    "    \n",
    "    if verbose: print(df.iloc[:30,:])\n",
    "    return df"
   ]
  },
  {
   "cell_type": "code",
   "execution_count": 63,
   "metadata": {},
   "outputs": [],
   "source": [
    "train_monthly = calculate_trend(train_monthly, lags, 'item_cnt', ['date_block_num', 'shop_id', 'item_id'])"
   ]
  },
  {
   "cell_type": "code",
   "execution_count": 64,
   "metadata": {},
   "outputs": [
    {
     "name": "stdout",
     "output_type": "stream",
     "text": [
      "(6734448, 24)\n"
     ]
    },
    {
     "data": {
      "text/html": [
       "<div>\n",
       "<style scoped>\n",
       "    .dataframe tbody tr th:only-of-type {\n",
       "        vertical-align: middle;\n",
       "    }\n",
       "\n",
       "    .dataframe tbody tr th {\n",
       "        vertical-align: top;\n",
       "    }\n",
       "\n",
       "    .dataframe thead th {\n",
       "        text-align: right;\n",
       "    }\n",
       "</style>\n",
       "<table border=\"1\" class=\"dataframe\">\n",
       "  <thead>\n",
       "    <tr style=\"text-align: right;\">\n",
       "      <th></th>\n",
       "      <th>date_block_num</th>\n",
       "      <th>shop_id</th>\n",
       "      <th>item_id</th>\n",
       "      <th>item_category_id</th>\n",
       "      <th>revenue</th>\n",
       "      <th>mean_item_price</th>\n",
       "      <th>item_cnt</th>\n",
       "      <th>mean_item_cnt</th>\n",
       "      <th>transactions</th>\n",
       "      <th>year</th>\n",
       "      <th>...</th>\n",
       "      <th>item_cnt_lag3</th>\n",
       "      <th>item_cnt_lag4</th>\n",
       "      <th>item_cnt_lag5</th>\n",
       "      <th>item_cnt_lag6</th>\n",
       "      <th>item_cnt_trend1</th>\n",
       "      <th>item_cnt_trend2</th>\n",
       "      <th>item_cnt_trend3</th>\n",
       "      <th>item_cnt_trend4</th>\n",
       "      <th>item_cnt_trend5</th>\n",
       "      <th>item_cnt_trend6</th>\n",
       "    </tr>\n",
       "  </thead>\n",
       "  <tbody>\n",
       "    <tr>\n",
       "      <th>6734443</th>\n",
       "      <td>33</td>\n",
       "      <td>36</td>\n",
       "      <td>9103</td>\n",
       "      <td>0.0</td>\n",
       "      <td>0.0</td>\n",
       "      <td>0.0</td>\n",
       "      <td>0.0</td>\n",
       "      <td>0.0</td>\n",
       "      <td>0.0</td>\n",
       "      <td>2015</td>\n",
       "      <td>...</td>\n",
       "      <td>0.0</td>\n",
       "      <td>0.0</td>\n",
       "      <td>0.0</td>\n",
       "      <td>0.0</td>\n",
       "      <td>0.0</td>\n",
       "      <td>0.0</td>\n",
       "      <td>0.0</td>\n",
       "      <td>0.0</td>\n",
       "      <td>0.0</td>\n",
       "      <td>0.0</td>\n",
       "    </tr>\n",
       "    <tr>\n",
       "      <th>6734444</th>\n",
       "      <td>33</td>\n",
       "      <td>36</td>\n",
       "      <td>9107</td>\n",
       "      <td>0.0</td>\n",
       "      <td>0.0</td>\n",
       "      <td>0.0</td>\n",
       "      <td>0.0</td>\n",
       "      <td>0.0</td>\n",
       "      <td>0.0</td>\n",
       "      <td>2015</td>\n",
       "      <td>...</td>\n",
       "      <td>0.0</td>\n",
       "      <td>0.0</td>\n",
       "      <td>0.0</td>\n",
       "      <td>0.0</td>\n",
       "      <td>0.0</td>\n",
       "      <td>0.0</td>\n",
       "      <td>0.0</td>\n",
       "      <td>0.0</td>\n",
       "      <td>0.0</td>\n",
       "      <td>0.0</td>\n",
       "    </tr>\n",
       "    <tr>\n",
       "      <th>6734445</th>\n",
       "      <td>33</td>\n",
       "      <td>36</td>\n",
       "      <td>5704</td>\n",
       "      <td>0.0</td>\n",
       "      <td>0.0</td>\n",
       "      <td>0.0</td>\n",
       "      <td>0.0</td>\n",
       "      <td>0.0</td>\n",
       "      <td>0.0</td>\n",
       "      <td>2015</td>\n",
       "      <td>...</td>\n",
       "      <td>0.0</td>\n",
       "      <td>0.0</td>\n",
       "      <td>0.0</td>\n",
       "      <td>0.0</td>\n",
       "      <td>0.0</td>\n",
       "      <td>0.0</td>\n",
       "      <td>0.0</td>\n",
       "      <td>0.0</td>\n",
       "      <td>0.0</td>\n",
       "      <td>0.0</td>\n",
       "    </tr>\n",
       "    <tr>\n",
       "      <th>6734446</th>\n",
       "      <td>33</td>\n",
       "      <td>36</td>\n",
       "      <td>12733</td>\n",
       "      <td>0.0</td>\n",
       "      <td>0.0</td>\n",
       "      <td>0.0</td>\n",
       "      <td>0.0</td>\n",
       "      <td>0.0</td>\n",
       "      <td>0.0</td>\n",
       "      <td>2015</td>\n",
       "      <td>...</td>\n",
       "      <td>0.0</td>\n",
       "      <td>0.0</td>\n",
       "      <td>0.0</td>\n",
       "      <td>0.0</td>\n",
       "      <td>0.0</td>\n",
       "      <td>0.0</td>\n",
       "      <td>0.0</td>\n",
       "      <td>0.0</td>\n",
       "      <td>0.0</td>\n",
       "      <td>0.0</td>\n",
       "    </tr>\n",
       "    <tr>\n",
       "      <th>6734447</th>\n",
       "      <td>33</td>\n",
       "      <td>36</td>\n",
       "      <td>15925</td>\n",
       "      <td>0.0</td>\n",
       "      <td>0.0</td>\n",
       "      <td>0.0</td>\n",
       "      <td>0.0</td>\n",
       "      <td>0.0</td>\n",
       "      <td>0.0</td>\n",
       "      <td>2015</td>\n",
       "      <td>...</td>\n",
       "      <td>0.0</td>\n",
       "      <td>0.0</td>\n",
       "      <td>0.0</td>\n",
       "      <td>0.0</td>\n",
       "      <td>0.0</td>\n",
       "      <td>0.0</td>\n",
       "      <td>0.0</td>\n",
       "      <td>0.0</td>\n",
       "      <td>0.0</td>\n",
       "      <td>0.0</td>\n",
       "    </tr>\n",
       "  </tbody>\n",
       "</table>\n",
       "<p>5 rows × 24 columns</p>\n",
       "</div>"
      ],
      "text/plain": [
       "         date_block_num  shop_id  item_id  item_category_id  revenue  \\\n",
       "6734443              33       36     9103               0.0      0.0   \n",
       "6734444              33       36     9107               0.0      0.0   \n",
       "6734445              33       36     5704               0.0      0.0   \n",
       "6734446              33       36    12733               0.0      0.0   \n",
       "6734447              33       36    15925               0.0      0.0   \n",
       "\n",
       "         mean_item_price  item_cnt  mean_item_cnt  transactions  year  ...  \\\n",
       "6734443              0.0       0.0            0.0           0.0  2015  ...   \n",
       "6734444              0.0       0.0            0.0           0.0  2015  ...   \n",
       "6734445              0.0       0.0            0.0           0.0  2015  ...   \n",
       "6734446              0.0       0.0            0.0           0.0  2015  ...   \n",
       "6734447              0.0       0.0            0.0           0.0  2015  ...   \n",
       "\n",
       "         item_cnt_lag3  item_cnt_lag4  item_cnt_lag5  item_cnt_lag6  \\\n",
       "6734443            0.0            0.0            0.0            0.0   \n",
       "6734444            0.0            0.0            0.0            0.0   \n",
       "6734445            0.0            0.0            0.0            0.0   \n",
       "6734446            0.0            0.0            0.0            0.0   \n",
       "6734447            0.0            0.0            0.0            0.0   \n",
       "\n",
       "         item_cnt_trend1  item_cnt_trend2  item_cnt_trend3  item_cnt_trend4  \\\n",
       "6734443              0.0              0.0              0.0              0.0   \n",
       "6734444              0.0              0.0              0.0              0.0   \n",
       "6734445              0.0              0.0              0.0              0.0   \n",
       "6734446              0.0              0.0              0.0              0.0   \n",
       "6734447              0.0              0.0              0.0              0.0   \n",
       "\n",
       "         item_cnt_trend5  item_cnt_trend6  \n",
       "6734443              0.0              0.0  \n",
       "6734444              0.0              0.0  \n",
       "6734445              0.0              0.0  \n",
       "6734446              0.0              0.0  \n",
       "6734447              0.0              0.0  \n",
       "\n",
       "[5 rows x 24 columns]"
      ]
     },
     "execution_count": 64,
     "metadata": {},
     "output_type": "execute_result"
    }
   ],
   "source": [
    "print(train_monthly.shape)\n",
    "train_monthly.tail()"
   ]
  },
  {
   "cell_type": "code",
   "execution_count": 65,
   "metadata": {},
   "outputs": [
    {
     "data": {
      "text/plain": [
       "Index(['date_block_num', 'shop_id', 'item_id', 'item_category_id', 'revenue',\n",
       "       'mean_item_price', 'item_cnt', 'mean_item_cnt', 'transactions', 'year',\n",
       "       'month', 'item_price', 'item_cnt_lag1', 'item_cnt_lag2',\n",
       "       'item_cnt_lag3', 'item_cnt_lag4', 'item_cnt_lag5', 'item_cnt_lag6',\n",
       "       'item_cnt_trend1', 'item_cnt_trend2', 'item_cnt_trend3',\n",
       "       'item_cnt_trend4', 'item_cnt_trend5', 'item_cnt_trend6'],\n",
       "      dtype='object')"
      ]
     },
     "execution_count": 65,
     "metadata": {},
     "output_type": "execute_result"
    }
   ],
   "source": [
    "train_monthly.columns"
   ]
  },
  {
   "cell_type": "markdown",
   "metadata": {},
   "source": [
    "### Split train / validation"
   ]
  },
  {
   "cell_type": "markdown",
   "metadata": {},
   "source": [
    "- **Train set:** Considering only the date_block_num >= 6 and < 28 because we used a 6 months window to generate features and as such the first 6 months don't have these features. \n",
    "- **Validation set:** date_block_num >= 28 and < 33, leaving out last month as test.\n",
    "- **Test set:** date_block_num == 33"
   ]
  },
  {
   "cell_type": "code",
   "execution_count": 110,
   "metadata": {},
   "outputs": [
    {
     "name": "stdout",
     "output_type": "stream",
     "text": [
      "Train set records: 4357584\n",
      "Validation set records: 990360\n",
      "Test set records: 198072\n"
     ]
    }
   ],
   "source": [
    "train = train_monthly.query('date_block_num >= 6 and date_block_num < 28')\n",
    "validation = train_monthly.query('date_block_num >= 28 and date_block_num < 33')\n",
    "test = train_monthly.query('date_block_num == 33')\n",
    "\n",
    "train = train.dropna(subset=['item_cnt'])\n",
    "validation = validation.dropna(subset=['item_cnt'])\n",
    "\n",
    "train = train.dropna()\n",
    "validation = validation.dropna()\n",
    "\n",
    "print(f\"Train set records: {train.shape[0]}\")\n",
    "print(f\"Validation set records: {validation.shape[0]}\")\n",
    "print(f\"Test set records: {test.shape[0]}\")\n",
    "#print(f\"Train set records: %s (%.f%% of complete data) % (train.shape[0], ((train.shape[0]/train_monthly.shape[0])*100)))\"\n",
    "#print(fValidation set records: %s (%.f%% of complete data) % (validation.shape[0], ((validation.shape[0]/train_monthly.shape[0])*100)))\n"
   ]
  },
  {
   "cell_type": "code",
   "execution_count": 82,
   "metadata": {},
   "outputs": [],
   "source": [
    "# Shop mean encoding.\n",
    "gp_shop_mean = train.groupby(['shop_id']).agg({'item_cnt': ['mean']})\n",
    "gp_shop_mean.columns = ['shop_mean']\n",
    "gp_shop_mean.reset_index(inplace=True)\n",
    "# Item mean encoding.\n",
    "gp_item_mean = train.groupby(['item_id']).agg({'item_cnt': ['mean']})\n",
    "gp_item_mean.columns = ['item_mean']\n",
    "gp_item_mean.reset_index(inplace=True)\n",
    "# Shop with item mean encoding.\n",
    "gp_shop_item_mean = train.groupby(['shop_id', 'item_id']).agg({'item_cnt': ['mean']})\n",
    "gp_shop_item_mean.columns = ['shop_item_mean']\n",
    "gp_shop_item_mean.reset_index(inplace=True)\n",
    "# Year mean encoding.\n",
    "gp_year_mean = train.groupby(['year']).agg({'item_cnt': ['mean']})\n",
    "gp_year_mean.columns = ['year_mean']\n",
    "gp_year_mean.reset_index(inplace=True)\n",
    "# Month mean encoding.\n",
    "gp_month_mean = train.groupby(['month']).agg({'item_cnt': ['mean']})\n",
    "gp_month_mean.columns = ['month_mean']\n",
    "gp_month_mean.reset_index(inplace=True)\n",
    "\n",
    "# Minimum and Maxium item_price\n",
    "min_max_price = train.groupby(['item_id']).agg({'item_price':[np.min, np.max]})\n",
    "min_max_price.columns = ['min_item_price', 'max_item_price']"
   ]
  },
  {
   "cell_type": "code",
   "execution_count": null,
   "metadata": {},
   "outputs": [],
   "source": [
    "shops = shops.drop('shop_name', axis=1)"
   ]
  },
  {
   "cell_type": "code",
   "execution_count": 101,
   "metadata": {},
   "outputs": [
    {
     "data": {
      "text/html": [
       "<div>\n",
       "<style scoped>\n",
       "    .dataframe tbody tr th:only-of-type {\n",
       "        vertical-align: middle;\n",
       "    }\n",
       "\n",
       "    .dataframe tbody tr th {\n",
       "        vertical-align: top;\n",
       "    }\n",
       "\n",
       "    .dataframe thead th {\n",
       "        text-align: right;\n",
       "    }\n",
       "</style>\n",
       "<table border=\"1\" class=\"dataframe\">\n",
       "  <thead>\n",
       "    <tr style=\"text-align: right;\">\n",
       "      <th></th>\n",
       "      <th>shop_id</th>\n",
       "      <th>city</th>\n",
       "    </tr>\n",
       "  </thead>\n",
       "  <tbody>\n",
       "    <tr>\n",
       "      <th>0</th>\n",
       "      <td>0</td>\n",
       "      <td>28</td>\n",
       "    </tr>\n",
       "    <tr>\n",
       "      <th>1</th>\n",
       "      <td>1</td>\n",
       "      <td>28</td>\n",
       "    </tr>\n",
       "    <tr>\n",
       "      <th>2</th>\n",
       "      <td>2</td>\n",
       "      <td>0</td>\n",
       "    </tr>\n",
       "    <tr>\n",
       "      <th>3</th>\n",
       "      <td>3</td>\n",
       "      <td>1</td>\n",
       "    </tr>\n",
       "    <tr>\n",
       "      <th>4</th>\n",
       "      <td>4</td>\n",
       "      <td>26</td>\n",
       "    </tr>\n",
       "    <tr>\n",
       "      <th>...</th>\n",
       "      <td>...</td>\n",
       "      <td>...</td>\n",
       "    </tr>\n",
       "    <tr>\n",
       "      <th>55</th>\n",
       "      <td>55</td>\n",
       "      <td>3</td>\n",
       "    </tr>\n",
       "    <tr>\n",
       "      <th>56</th>\n",
       "      <td>56</td>\n",
       "      <td>2</td>\n",
       "    </tr>\n",
       "    <tr>\n",
       "      <th>57</th>\n",
       "      <td>57</td>\n",
       "      <td>28</td>\n",
       "    </tr>\n",
       "    <tr>\n",
       "      <th>58</th>\n",
       "      <td>58</td>\n",
       "      <td>28</td>\n",
       "    </tr>\n",
       "    <tr>\n",
       "      <th>59</th>\n",
       "      <td>59</td>\n",
       "      <td>29</td>\n",
       "    </tr>\n",
       "  </tbody>\n",
       "</table>\n",
       "<p>60 rows × 2 columns</p>\n",
       "</div>"
      ],
      "text/plain": [
       "    shop_id  city\n",
       "0         0    28\n",
       "1         1    28\n",
       "2         2     0\n",
       "3         3     1\n",
       "4         4    26\n",
       "..      ...   ...\n",
       "55       55     3\n",
       "56       56     2\n",
       "57       57    28\n",
       "58       58    28\n",
       "59       59    29\n",
       "\n",
       "[60 rows x 2 columns]"
      ]
     },
     "execution_count": 101,
     "metadata": {},
     "output_type": "execute_result"
    }
   ],
   "source": [
    "from sklearn import preprocessing\n",
    "encoder = preprocessing.LabelEncoder()\n",
    "\n",
    "shops['city'] = encoder.fit_transform(shops['city'])\n",
    "shops"
   ]
  },
  {
   "cell_type": "code",
   "execution_count": 103,
   "metadata": {},
   "outputs": [
    {
     "name": "stderr",
     "output_type": "stream",
     "text": [
      "/Users/giacomomiolo/opt/anaconda3/lib/python3.7/site-packages/ipykernel_launcher.py:1: SettingWithCopyWarning:\n",
      "\n",
      "\n",
      "A value is trying to be set on a copy of a slice from a DataFrame.\n",
      "Try using .loc[row_indexer,col_indexer] = value instead\n",
      "\n",
      "See the caveats in the documentation: https://pandas.pydata.org/pandas-docs/stable/user_guide/indexing.html#returning-a-view-versus-a-copy\n",
      "\n",
      "/Users/giacomomiolo/opt/anaconda3/lib/python3.7/site-packages/ipykernel_launcher.py:2: SettingWithCopyWarning:\n",
      "\n",
      "\n",
      "A value is trying to be set on a copy of a slice from a DataFrame.\n",
      "Try using .loc[row_indexer,col_indexer] = value instead\n",
      "\n",
      "See the caveats in the documentation: https://pandas.pydata.org/pandas-docs/stable/user_guide/indexing.html#returning-a-view-versus-a-copy\n",
      "\n"
     ]
    },
    {
     "data": {
      "text/html": [
       "<div>\n",
       "<style scoped>\n",
       "    .dataframe tbody tr th:only-of-type {\n",
       "        vertical-align: middle;\n",
       "    }\n",
       "\n",
       "    .dataframe tbody tr th {\n",
       "        vertical-align: top;\n",
       "    }\n",
       "\n",
       "    .dataframe thead th {\n",
       "        text-align: right;\n",
       "    }\n",
       "</style>\n",
       "<table border=\"1\" class=\"dataframe\">\n",
       "  <thead>\n",
       "    <tr style=\"text-align: right;\">\n",
       "      <th></th>\n",
       "      <th>item_category_id</th>\n",
       "      <th>type</th>\n",
       "      <th>subtype</th>\n",
       "    </tr>\n",
       "  </thead>\n",
       "  <tbody>\n",
       "    <tr>\n",
       "      <th>0</th>\n",
       "      <td>0</td>\n",
       "      <td>14</td>\n",
       "      <td>35</td>\n",
       "    </tr>\n",
       "    <tr>\n",
       "      <th>1</th>\n",
       "      <td>1</td>\n",
       "      <td>0</td>\n",
       "      <td>45</td>\n",
       "    </tr>\n",
       "    <tr>\n",
       "      <th>2</th>\n",
       "      <td>2</td>\n",
       "      <td>0</td>\n",
       "      <td>46</td>\n",
       "    </tr>\n",
       "    <tr>\n",
       "      <th>3</th>\n",
       "      <td>3</td>\n",
       "      <td>0</td>\n",
       "      <td>47</td>\n",
       "    </tr>\n",
       "    <tr>\n",
       "      <th>4</th>\n",
       "      <td>4</td>\n",
       "      <td>0</td>\n",
       "      <td>49</td>\n",
       "    </tr>\n",
       "    <tr>\n",
       "      <th>...</th>\n",
       "      <td>...</td>\n",
       "      <td>...</td>\n",
       "      <td>...</td>\n",
       "    </tr>\n",
       "    <tr>\n",
       "      <th>79</th>\n",
       "      <td>79</td>\n",
       "      <td>13</td>\n",
       "      <td>43</td>\n",
       "    </tr>\n",
       "    <tr>\n",
       "      <th>80</th>\n",
       "      <td>80</td>\n",
       "      <td>13</td>\n",
       "      <td>59</td>\n",
       "    </tr>\n",
       "    <tr>\n",
       "      <th>81</th>\n",
       "      <td>81</td>\n",
       "      <td>4</td>\n",
       "      <td>9</td>\n",
       "    </tr>\n",
       "    <tr>\n",
       "      <th>82</th>\n",
       "      <td>82</td>\n",
       "      <td>3</td>\n",
       "      <td>16</td>\n",
       "    </tr>\n",
       "    <tr>\n",
       "      <th>83</th>\n",
       "      <td>83</td>\n",
       "      <td>2</td>\n",
       "      <td>27</td>\n",
       "    </tr>\n",
       "  </tbody>\n",
       "</table>\n",
       "<p>84 rows × 3 columns</p>\n",
       "</div>"
      ],
      "text/plain": [
       "    item_category_id  type  subtype\n",
       "0                  0    14       35\n",
       "1                  1     0       45\n",
       "2                  2     0       46\n",
       "3                  3     0       47\n",
       "4                  4     0       49\n",
       "..               ...   ...      ...\n",
       "79                79    13       43\n",
       "80                80    13       59\n",
       "81                81     4        9\n",
       "82                82     3       16\n",
       "83                83     2       27\n",
       "\n",
       "[84 rows x 3 columns]"
      ]
     },
     "execution_count": 103,
     "metadata": {},
     "output_type": "execute_result"
    }
   ],
   "source": [
    "item_categories['type'] = encoder.fit_transform(item_categories['type'])\n",
    "item_categories['subtype'] = encoder.fit_transform(item_categories['subtype'])\n",
    "item_categories"
   ]
  },
  {
   "cell_type": "code",
   "execution_count": 111,
   "metadata": {},
   "outputs": [],
   "source": [
    "# Add meand encoding features to train set.\n",
    "train = pd.merge(train, gp_shop_mean, on=['shop_id'], how='left')\n",
    "train = pd.merge(train, gp_item_mean, on=['item_id'], how='left')\n",
    "train = pd.merge(train, gp_shop_item_mean, on=['shop_id', 'item_id'], how='left')\n",
    "train = pd.merge(train, gp_year_mean, on=['year'], how='left')\n",
    "train = pd.merge(train, gp_month_mean, on=['month'], how='left')\n",
    "train = pd.merge(train, min_max_price, on=['item_id'], how='left')\n",
    "\n",
    "\n",
    "# Adding encoded categorical features\n",
    "train = pd.merge(train, shops, on='shop_id', how='left')\n",
    "train = pd.merge(train, item_categories, on='item_category_id', how='left')\n",
    "\n",
    "# Adding delta features\n",
    "train['delta_from_min'] = train['item_price'] - train['min_item_price']\n",
    "train['delta_from_max'] = train['max_item_price'] - train['item_price']"
   ]
  },
  {
   "cell_type": "code",
   "execution_count": 112,
   "metadata": {},
   "outputs": [
    {
     "name": "stdout",
     "output_type": "stream",
     "text": [
      "(4357584, 36)\n",
      "Index(['date_block_num', 'shop_id', 'item_id', 'item_category_id', 'revenue',\n",
      "       'mean_item_price', 'item_cnt', 'mean_item_cnt', 'transactions', 'year',\n",
      "       'month', 'item_price', 'item_cnt_lag1', 'item_cnt_lag2',\n",
      "       'item_cnt_lag3', 'item_cnt_lag4', 'item_cnt_lag5', 'item_cnt_lag6',\n",
      "       'item_cnt_trend1', 'item_cnt_trend2', 'item_cnt_trend3',\n",
      "       'item_cnt_trend4', 'item_cnt_trend5', 'item_cnt_trend6', 'shop_mean',\n",
      "       'item_mean', 'shop_item_mean', 'year_mean', 'month_mean',\n",
      "       'min_item_price', 'max_item_price', 'city', 'type', 'subtype',\n",
      "       'delta_from_min', 'delta_from_max'],\n",
      "      dtype='object')\n"
     ]
    },
    {
     "data": {
      "text/html": [
       "<div>\n",
       "<style scoped>\n",
       "    .dataframe tbody tr th:only-of-type {\n",
       "        vertical-align: middle;\n",
       "    }\n",
       "\n",
       "    .dataframe tbody tr th {\n",
       "        vertical-align: top;\n",
       "    }\n",
       "\n",
       "    .dataframe thead th {\n",
       "        text-align: right;\n",
       "    }\n",
       "</style>\n",
       "<table border=\"1\" class=\"dataframe\">\n",
       "  <thead>\n",
       "    <tr style=\"text-align: right;\">\n",
       "      <th></th>\n",
       "      <th>date_block_num</th>\n",
       "      <th>shop_id</th>\n",
       "      <th>item_id</th>\n",
       "      <th>item_category_id</th>\n",
       "      <th>revenue</th>\n",
       "      <th>mean_item_price</th>\n",
       "      <th>item_cnt</th>\n",
       "      <th>mean_item_cnt</th>\n",
       "      <th>transactions</th>\n",
       "      <th>year</th>\n",
       "      <th>...</th>\n",
       "      <th>shop_item_mean</th>\n",
       "      <th>year_mean</th>\n",
       "      <th>month_mean</th>\n",
       "      <th>min_item_price</th>\n",
       "      <th>max_item_price</th>\n",
       "      <th>city</th>\n",
       "      <th>type</th>\n",
       "      <th>subtype</th>\n",
       "      <th>delta_from_min</th>\n",
       "      <th>delta_from_max</th>\n",
       "    </tr>\n",
       "  </thead>\n",
       "  <tbody>\n",
       "    <tr>\n",
       "      <th>0</th>\n",
       "      <td>6</td>\n",
       "      <td>2</td>\n",
       "      <td>5572</td>\n",
       "      <td>2.0</td>\n",
       "      <td>1590.0</td>\n",
       "      <td>1590.000000</td>\n",
       "      <td>1.0</td>\n",
       "      <td>1.0</td>\n",
       "      <td>1.0</td>\n",
       "      <td>2013</td>\n",
       "      <td>...</td>\n",
       "      <td>0.727273</td>\n",
       "      <td>0.218129</td>\n",
       "      <td>0.187399</td>\n",
       "      <td>0.0</td>\n",
       "      <td>2190.0</td>\n",
       "      <td>0</td>\n",
       "      <td>0</td>\n",
       "      <td>46</td>\n",
       "      <td>1590.000000</td>\n",
       "      <td>600.000000</td>\n",
       "    </tr>\n",
       "    <tr>\n",
       "      <th>1</th>\n",
       "      <td>6</td>\n",
       "      <td>2</td>\n",
       "      <td>5643</td>\n",
       "      <td>2.0</td>\n",
       "      <td>7170.0</td>\n",
       "      <td>2390.000000</td>\n",
       "      <td>3.0</td>\n",
       "      <td>1.0</td>\n",
       "      <td>3.0</td>\n",
       "      <td>2013</td>\n",
       "      <td>...</td>\n",
       "      <td>1.772727</td>\n",
       "      <td>0.218129</td>\n",
       "      <td>0.187399</td>\n",
       "      <td>0.0</td>\n",
       "      <td>3290.0</td>\n",
       "      <td>0</td>\n",
       "      <td>0</td>\n",
       "      <td>46</td>\n",
       "      <td>2390.000000</td>\n",
       "      <td>900.000000</td>\n",
       "    </tr>\n",
       "    <tr>\n",
       "      <th>2</th>\n",
       "      <td>6</td>\n",
       "      <td>2</td>\n",
       "      <td>5583</td>\n",
       "      <td>0.0</td>\n",
       "      <td>0.0</td>\n",
       "      <td>0.000000</td>\n",
       "      <td>0.0</td>\n",
       "      <td>0.0</td>\n",
       "      <td>0.0</td>\n",
       "      <td>2013</td>\n",
       "      <td>...</td>\n",
       "      <td>0.045455</td>\n",
       "      <td>0.218129</td>\n",
       "      <td>0.187399</td>\n",
       "      <td>0.0</td>\n",
       "      <td>699.0</td>\n",
       "      <td>0</td>\n",
       "      <td>14</td>\n",
       "      <td>35</td>\n",
       "      <td>0.000000</td>\n",
       "      <td>699.000000</td>\n",
       "    </tr>\n",
       "    <tr>\n",
       "      <th>3</th>\n",
       "      <td>6</td>\n",
       "      <td>2</td>\n",
       "      <td>7893</td>\n",
       "      <td>6.0</td>\n",
       "      <td>10840.0</td>\n",
       "      <td>1806.666667</td>\n",
       "      <td>6.0</td>\n",
       "      <td>1.0</td>\n",
       "      <td>6.0</td>\n",
       "      <td>2013</td>\n",
       "      <td>...</td>\n",
       "      <td>3.363636</td>\n",
       "      <td>0.218129</td>\n",
       "      <td>0.187399</td>\n",
       "      <td>0.0</td>\n",
       "      <td>3090.0</td>\n",
       "      <td>0</td>\n",
       "      <td>0</td>\n",
       "      <td>63</td>\n",
       "      <td>1806.666667</td>\n",
       "      <td>1283.333333</td>\n",
       "    </tr>\n",
       "    <tr>\n",
       "      <th>4</th>\n",
       "      <td>6</td>\n",
       "      <td>2</td>\n",
       "      <td>7894</td>\n",
       "      <td>6.0</td>\n",
       "      <td>1490.0</td>\n",
       "      <td>1490.000000</td>\n",
       "      <td>1.0</td>\n",
       "      <td>1.0</td>\n",
       "      <td>1.0</td>\n",
       "      <td>2013</td>\n",
       "      <td>...</td>\n",
       "      <td>1.818182</td>\n",
       "      <td>0.218129</td>\n",
       "      <td>0.187399</td>\n",
       "      <td>0.0</td>\n",
       "      <td>2290.0</td>\n",
       "      <td>0</td>\n",
       "      <td>0</td>\n",
       "      <td>63</td>\n",
       "      <td>1490.000000</td>\n",
       "      <td>800.000000</td>\n",
       "    </tr>\n",
       "  </tbody>\n",
       "</table>\n",
       "<p>5 rows × 36 columns</p>\n",
       "</div>"
      ],
      "text/plain": [
       "   date_block_num  shop_id  item_id  item_category_id  revenue  \\\n",
       "0               6        2     5572               2.0   1590.0   \n",
       "1               6        2     5643               2.0   7170.0   \n",
       "2               6        2     5583               0.0      0.0   \n",
       "3               6        2     7893               6.0  10840.0   \n",
       "4               6        2     7894               6.0   1490.0   \n",
       "\n",
       "   mean_item_price  item_cnt  mean_item_cnt  transactions  year  ...  \\\n",
       "0      1590.000000       1.0            1.0           1.0  2013  ...   \n",
       "1      2390.000000       3.0            1.0           3.0  2013  ...   \n",
       "2         0.000000       0.0            0.0           0.0  2013  ...   \n",
       "3      1806.666667       6.0            1.0           6.0  2013  ...   \n",
       "4      1490.000000       1.0            1.0           1.0  2013  ...   \n",
       "\n",
       "   shop_item_mean  year_mean  month_mean  min_item_price  max_item_price  \\\n",
       "0        0.727273   0.218129    0.187399             0.0          2190.0   \n",
       "1        1.772727   0.218129    0.187399             0.0          3290.0   \n",
       "2        0.045455   0.218129    0.187399             0.0           699.0   \n",
       "3        3.363636   0.218129    0.187399             0.0          3090.0   \n",
       "4        1.818182   0.218129    0.187399             0.0          2290.0   \n",
       "\n",
       "   city  type  subtype  delta_from_min  delta_from_max  \n",
       "0     0     0       46     1590.000000      600.000000  \n",
       "1     0     0       46     2390.000000      900.000000  \n",
       "2     0    14       35        0.000000      699.000000  \n",
       "3     0     0       63     1806.666667     1283.333333  \n",
       "4     0     0       63     1490.000000      800.000000  \n",
       "\n",
       "[5 rows x 36 columns]"
      ]
     },
     "execution_count": 112,
     "metadata": {},
     "output_type": "execute_result"
    }
   ],
   "source": [
    "print(train.shape)\n",
    "print(train.columns)\n",
    "train.head()"
   ]
  },
  {
   "cell_type": "code",
   "execution_count": 113,
   "metadata": {},
   "outputs": [],
   "source": [
    "# Add meand encoding features to validation set.\n",
    "validation = pd.merge(validation, gp_shop_mean, on=['shop_id'], how='left')\n",
    "validation = pd.merge(validation, gp_item_mean, on=['item_id'], how='left')\n",
    "validation = pd.merge(validation, gp_shop_item_mean, on=['shop_id', 'item_id'], how='left')\n",
    "validation = pd.merge(validation, gp_year_mean, on=['year'], how='left')\n",
    "validation = pd.merge(validation, gp_month_mean, on=['month'], how='left')\n",
    "validation = pd.merge(validation, min_max_price, on=['item_id'], how='left')\n",
    "\n",
    "\n",
    "# Adding encoded categorical features\n",
    "validation = pd.merge(validation, shops, on='shop_id', how='left')\n",
    "validation = pd.merge(validation, item_categories, on='item_category_id', how='left')\n",
    "\n",
    "# Adding delta features\n",
    "validation['delta_from_min'] = validation['item_price'] - validation['min_item_price']\n",
    "validation['delta_from_max'] = validation['max_item_price'] - validation['item_price']"
   ]
  },
  {
   "cell_type": "code",
   "execution_count": 114,
   "metadata": {},
   "outputs": [
    {
     "name": "stdout",
     "output_type": "stream",
     "text": [
      "(990360, 36)\n",
      "Index(['date_block_num', 'shop_id', 'item_id', 'item_category_id', 'revenue',\n",
      "       'mean_item_price', 'item_cnt', 'mean_item_cnt', 'transactions', 'year',\n",
      "       'month', 'item_price', 'item_cnt_lag1', 'item_cnt_lag2',\n",
      "       'item_cnt_lag3', 'item_cnt_lag4', 'item_cnt_lag5', 'item_cnt_lag6',\n",
      "       'item_cnt_trend1', 'item_cnt_trend2', 'item_cnt_trend3',\n",
      "       'item_cnt_trend4', 'item_cnt_trend5', 'item_cnt_trend6', 'shop_mean',\n",
      "       'item_mean', 'shop_item_mean', 'year_mean', 'month_mean',\n",
      "       'min_item_price', 'max_item_price', 'city', 'type', 'subtype',\n",
      "       'delta_from_min', 'delta_from_max'],\n",
      "      dtype='object')\n"
     ]
    },
    {
     "data": {
      "text/html": [
       "<div>\n",
       "<style scoped>\n",
       "    .dataframe tbody tr th:only-of-type {\n",
       "        vertical-align: middle;\n",
       "    }\n",
       "\n",
       "    .dataframe tbody tr th {\n",
       "        vertical-align: top;\n",
       "    }\n",
       "\n",
       "    .dataframe thead th {\n",
       "        text-align: right;\n",
       "    }\n",
       "</style>\n",
       "<table border=\"1\" class=\"dataframe\">\n",
       "  <thead>\n",
       "    <tr style=\"text-align: right;\">\n",
       "      <th></th>\n",
       "      <th>date_block_num</th>\n",
       "      <th>shop_id</th>\n",
       "      <th>item_id</th>\n",
       "      <th>item_category_id</th>\n",
       "      <th>revenue</th>\n",
       "      <th>mean_item_price</th>\n",
       "      <th>item_cnt</th>\n",
       "      <th>mean_item_cnt</th>\n",
       "      <th>transactions</th>\n",
       "      <th>year</th>\n",
       "      <th>...</th>\n",
       "      <th>shop_item_mean</th>\n",
       "      <th>year_mean</th>\n",
       "      <th>month_mean</th>\n",
       "      <th>min_item_price</th>\n",
       "      <th>max_item_price</th>\n",
       "      <th>city</th>\n",
       "      <th>type</th>\n",
       "      <th>subtype</th>\n",
       "      <th>delta_from_min</th>\n",
       "      <th>delta_from_max</th>\n",
       "    </tr>\n",
       "  </thead>\n",
       "  <tbody>\n",
       "    <tr>\n",
       "      <th>0</th>\n",
       "      <td>28</td>\n",
       "      <td>2</td>\n",
       "      <td>5572</td>\n",
       "      <td>2.0</td>\n",
       "      <td>1590.0</td>\n",
       "      <td>1590.00</td>\n",
       "      <td>1.0</td>\n",
       "      <td>1.0</td>\n",
       "      <td>1.0</td>\n",
       "      <td>2015</td>\n",
       "      <td>...</td>\n",
       "      <td>0.727273</td>\n",
       "      <td>0.298591</td>\n",
       "      <td>0.216265</td>\n",
       "      <td>0.0</td>\n",
       "      <td>2190.0</td>\n",
       "      <td>0</td>\n",
       "      <td>0</td>\n",
       "      <td>46</td>\n",
       "      <td>1590.00</td>\n",
       "      <td>600.00</td>\n",
       "    </tr>\n",
       "    <tr>\n",
       "      <th>1</th>\n",
       "      <td>28</td>\n",
       "      <td>2</td>\n",
       "      <td>5643</td>\n",
       "      <td>0.0</td>\n",
       "      <td>0.0</td>\n",
       "      <td>0.00</td>\n",
       "      <td>0.0</td>\n",
       "      <td>0.0</td>\n",
       "      <td>0.0</td>\n",
       "      <td>2015</td>\n",
       "      <td>...</td>\n",
       "      <td>1.772727</td>\n",
       "      <td>0.298591</td>\n",
       "      <td>0.216265</td>\n",
       "      <td>0.0</td>\n",
       "      <td>3290.0</td>\n",
       "      <td>0</td>\n",
       "      <td>14</td>\n",
       "      <td>35</td>\n",
       "      <td>0.00</td>\n",
       "      <td>3290.00</td>\n",
       "    </tr>\n",
       "    <tr>\n",
       "      <th>2</th>\n",
       "      <td>28</td>\n",
       "      <td>2</td>\n",
       "      <td>5583</td>\n",
       "      <td>0.0</td>\n",
       "      <td>0.0</td>\n",
       "      <td>0.00</td>\n",
       "      <td>0.0</td>\n",
       "      <td>0.0</td>\n",
       "      <td>0.0</td>\n",
       "      <td>2015</td>\n",
       "      <td>...</td>\n",
       "      <td>0.045455</td>\n",
       "      <td>0.298591</td>\n",
       "      <td>0.216265</td>\n",
       "      <td>0.0</td>\n",
       "      <td>699.0</td>\n",
       "      <td>0</td>\n",
       "      <td>14</td>\n",
       "      <td>35</td>\n",
       "      <td>0.00</td>\n",
       "      <td>699.00</td>\n",
       "    </tr>\n",
       "    <tr>\n",
       "      <th>3</th>\n",
       "      <td>28</td>\n",
       "      <td>2</td>\n",
       "      <td>7893</td>\n",
       "      <td>0.0</td>\n",
       "      <td>0.0</td>\n",
       "      <td>0.00</td>\n",
       "      <td>0.0</td>\n",
       "      <td>0.0</td>\n",
       "      <td>0.0</td>\n",
       "      <td>2015</td>\n",
       "      <td>...</td>\n",
       "      <td>3.363636</td>\n",
       "      <td>0.298591</td>\n",
       "      <td>0.216265</td>\n",
       "      <td>0.0</td>\n",
       "      <td>3090.0</td>\n",
       "      <td>0</td>\n",
       "      <td>14</td>\n",
       "      <td>35</td>\n",
       "      <td>0.00</td>\n",
       "      <td>3090.00</td>\n",
       "    </tr>\n",
       "    <tr>\n",
       "      <th>4</th>\n",
       "      <td>28</td>\n",
       "      <td>2</td>\n",
       "      <td>7894</td>\n",
       "      <td>6.0</td>\n",
       "      <td>4579.5</td>\n",
       "      <td>2289.75</td>\n",
       "      <td>2.0</td>\n",
       "      <td>1.0</td>\n",
       "      <td>2.0</td>\n",
       "      <td>2015</td>\n",
       "      <td>...</td>\n",
       "      <td>1.818182</td>\n",
       "      <td>0.298591</td>\n",
       "      <td>0.216265</td>\n",
       "      <td>0.0</td>\n",
       "      <td>2290.0</td>\n",
       "      <td>0</td>\n",
       "      <td>0</td>\n",
       "      <td>63</td>\n",
       "      <td>2289.75</td>\n",
       "      <td>0.25</td>\n",
       "    </tr>\n",
       "  </tbody>\n",
       "</table>\n",
       "<p>5 rows × 36 columns</p>\n",
       "</div>"
      ],
      "text/plain": [
       "   date_block_num  shop_id  item_id  item_category_id  revenue  \\\n",
       "0              28        2     5572               2.0   1590.0   \n",
       "1              28        2     5643               0.0      0.0   \n",
       "2              28        2     5583               0.0      0.0   \n",
       "3              28        2     7893               0.0      0.0   \n",
       "4              28        2     7894               6.0   4579.5   \n",
       "\n",
       "   mean_item_price  item_cnt  mean_item_cnt  transactions  year  ...  \\\n",
       "0          1590.00       1.0            1.0           1.0  2015  ...   \n",
       "1             0.00       0.0            0.0           0.0  2015  ...   \n",
       "2             0.00       0.0            0.0           0.0  2015  ...   \n",
       "3             0.00       0.0            0.0           0.0  2015  ...   \n",
       "4          2289.75       2.0            1.0           2.0  2015  ...   \n",
       "\n",
       "   shop_item_mean  year_mean  month_mean  min_item_price  max_item_price  \\\n",
       "0        0.727273   0.298591    0.216265             0.0          2190.0   \n",
       "1        1.772727   0.298591    0.216265             0.0          3290.0   \n",
       "2        0.045455   0.298591    0.216265             0.0           699.0   \n",
       "3        3.363636   0.298591    0.216265             0.0          3090.0   \n",
       "4        1.818182   0.298591    0.216265             0.0          2290.0   \n",
       "\n",
       "   city  type  subtype  delta_from_min  delta_from_max  \n",
       "0     0     0       46         1590.00          600.00  \n",
       "1     0    14       35            0.00         3290.00  \n",
       "2     0    14       35            0.00          699.00  \n",
       "3     0    14       35            0.00         3090.00  \n",
       "4     0     0       63         2289.75            0.25  \n",
       "\n",
       "[5 rows x 36 columns]"
      ]
     },
     "execution_count": 114,
     "metadata": {},
     "output_type": "execute_result"
    }
   ],
   "source": [
    "print(validation.shape)\n",
    "print(validation.columns)\n",
    "validation.head()"
   ]
  },
  {
   "cell_type": "code",
   "execution_count": 115,
   "metadata": {},
   "outputs": [],
   "source": [
    "# Add meand encoding features to test set.\n",
    "test = pd.merge(test, gp_shop_mean, on=['shop_id'], how='left')\n",
    "test = pd.merge(test, gp_item_mean, on=['item_id'], how='left')\n",
    "test = pd.merge(test, gp_shop_item_mean, on=['shop_id', 'item_id'], how='left')\n",
    "test = pd.merge(test, gp_year_mean, on=['year'], how='left')\n",
    "test = pd.merge(test, gp_month_mean, on=['month'], how='left')\n",
    "test = pd.merge(test, min_max_price, on=['item_id'], how='left')\n",
    "\n",
    "\n",
    "# Adding encoded categorical features\n",
    "test = pd.merge(test, shops, on='shop_id', how='left')\n",
    "test = pd.merge(test, item_categories, on='item_category_id', how='left')\n",
    "\n",
    "# Adding delta features\n",
    "test['delta_from_min'] = test['item_price'] - test['min_item_price']\n",
    "test['delta_from_max'] = test['max_item_price'] - test['item_price']"
   ]
  },
  {
   "cell_type": "code",
   "execution_count": 116,
   "metadata": {},
   "outputs": [
    {
     "name": "stdout",
     "output_type": "stream",
     "text": [
      "(198072, 36)\n",
      "Index(['date_block_num', 'shop_id', 'item_id', 'item_category_id', 'revenue',\n",
      "       'mean_item_price', 'item_cnt', 'mean_item_cnt', 'transactions', 'year',\n",
      "       'month', 'item_price', 'item_cnt_lag1', 'item_cnt_lag2',\n",
      "       'item_cnt_lag3', 'item_cnt_lag4', 'item_cnt_lag5', 'item_cnt_lag6',\n",
      "       'item_cnt_trend1', 'item_cnt_trend2', 'item_cnt_trend3',\n",
      "       'item_cnt_trend4', 'item_cnt_trend5', 'item_cnt_trend6', 'shop_mean',\n",
      "       'item_mean', 'shop_item_mean', 'year_mean', 'month_mean',\n",
      "       'min_item_price', 'max_item_price', 'city', 'type', 'subtype',\n",
      "       'delta_from_min', 'delta_from_max'],\n",
      "      dtype='object')\n"
     ]
    },
    {
     "data": {
      "text/html": [
       "<div>\n",
       "<style scoped>\n",
       "    .dataframe tbody tr th:only-of-type {\n",
       "        vertical-align: middle;\n",
       "    }\n",
       "\n",
       "    .dataframe tbody tr th {\n",
       "        vertical-align: top;\n",
       "    }\n",
       "\n",
       "    .dataframe thead th {\n",
       "        text-align: right;\n",
       "    }\n",
       "</style>\n",
       "<table border=\"1\" class=\"dataframe\">\n",
       "  <thead>\n",
       "    <tr style=\"text-align: right;\">\n",
       "      <th></th>\n",
       "      <th>date_block_num</th>\n",
       "      <th>shop_id</th>\n",
       "      <th>item_id</th>\n",
       "      <th>item_category_id</th>\n",
       "      <th>revenue</th>\n",
       "      <th>mean_item_price</th>\n",
       "      <th>item_cnt</th>\n",
       "      <th>mean_item_cnt</th>\n",
       "      <th>transactions</th>\n",
       "      <th>year</th>\n",
       "      <th>...</th>\n",
       "      <th>shop_item_mean</th>\n",
       "      <th>year_mean</th>\n",
       "      <th>month_mean</th>\n",
       "      <th>min_item_price</th>\n",
       "      <th>max_item_price</th>\n",
       "      <th>city</th>\n",
       "      <th>type</th>\n",
       "      <th>subtype</th>\n",
       "      <th>delta_from_min</th>\n",
       "      <th>delta_from_max</th>\n",
       "    </tr>\n",
       "  </thead>\n",
       "  <tbody>\n",
       "    <tr>\n",
       "      <th>0</th>\n",
       "      <td>33</td>\n",
       "      <td>2</td>\n",
       "      <td>5572</td>\n",
       "      <td>0.0</td>\n",
       "      <td>0.0</td>\n",
       "      <td>0.0</td>\n",
       "      <td>0.0</td>\n",
       "      <td>0.0</td>\n",
       "      <td>0.0</td>\n",
       "      <td>2015</td>\n",
       "      <td>...</td>\n",
       "      <td>0.727273</td>\n",
       "      <td>0.298591</td>\n",
       "      <td>0.235336</td>\n",
       "      <td>0.0</td>\n",
       "      <td>2190.0</td>\n",
       "      <td>0</td>\n",
       "      <td>14</td>\n",
       "      <td>35</td>\n",
       "      <td>0.0</td>\n",
       "      <td>2190.0</td>\n",
       "    </tr>\n",
       "    <tr>\n",
       "      <th>1</th>\n",
       "      <td>33</td>\n",
       "      <td>2</td>\n",
       "      <td>5643</td>\n",
       "      <td>0.0</td>\n",
       "      <td>0.0</td>\n",
       "      <td>0.0</td>\n",
       "      <td>0.0</td>\n",
       "      <td>0.0</td>\n",
       "      <td>0.0</td>\n",
       "      <td>2015</td>\n",
       "      <td>...</td>\n",
       "      <td>1.772727</td>\n",
       "      <td>0.298591</td>\n",
       "      <td>0.235336</td>\n",
       "      <td>0.0</td>\n",
       "      <td>3290.0</td>\n",
       "      <td>0</td>\n",
       "      <td>14</td>\n",
       "      <td>35</td>\n",
       "      <td>0.0</td>\n",
       "      <td>3290.0</td>\n",
       "    </tr>\n",
       "    <tr>\n",
       "      <th>2</th>\n",
       "      <td>33</td>\n",
       "      <td>2</td>\n",
       "      <td>5583</td>\n",
       "      <td>0.0</td>\n",
       "      <td>0.0</td>\n",
       "      <td>0.0</td>\n",
       "      <td>0.0</td>\n",
       "      <td>0.0</td>\n",
       "      <td>0.0</td>\n",
       "      <td>2015</td>\n",
       "      <td>...</td>\n",
       "      <td>0.045455</td>\n",
       "      <td>0.298591</td>\n",
       "      <td>0.235336</td>\n",
       "      <td>0.0</td>\n",
       "      <td>699.0</td>\n",
       "      <td>0</td>\n",
       "      <td>14</td>\n",
       "      <td>35</td>\n",
       "      <td>0.0</td>\n",
       "      <td>699.0</td>\n",
       "    </tr>\n",
       "    <tr>\n",
       "      <th>3</th>\n",
       "      <td>33</td>\n",
       "      <td>2</td>\n",
       "      <td>7893</td>\n",
       "      <td>0.0</td>\n",
       "      <td>0.0</td>\n",
       "      <td>0.0</td>\n",
       "      <td>0.0</td>\n",
       "      <td>0.0</td>\n",
       "      <td>0.0</td>\n",
       "      <td>2015</td>\n",
       "      <td>...</td>\n",
       "      <td>3.363636</td>\n",
       "      <td>0.298591</td>\n",
       "      <td>0.235336</td>\n",
       "      <td>0.0</td>\n",
       "      <td>3090.0</td>\n",
       "      <td>0</td>\n",
       "      <td>14</td>\n",
       "      <td>35</td>\n",
       "      <td>0.0</td>\n",
       "      <td>3090.0</td>\n",
       "    </tr>\n",
       "    <tr>\n",
       "      <th>4</th>\n",
       "      <td>33</td>\n",
       "      <td>2</td>\n",
       "      <td>7894</td>\n",
       "      <td>6.0</td>\n",
       "      <td>9160.0</td>\n",
       "      <td>2290.0</td>\n",
       "      <td>4.0</td>\n",
       "      <td>1.0</td>\n",
       "      <td>4.0</td>\n",
       "      <td>2015</td>\n",
       "      <td>...</td>\n",
       "      <td>1.818182</td>\n",
       "      <td>0.298591</td>\n",
       "      <td>0.235336</td>\n",
       "      <td>0.0</td>\n",
       "      <td>2290.0</td>\n",
       "      <td>0</td>\n",
       "      <td>0</td>\n",
       "      <td>63</td>\n",
       "      <td>2290.0</td>\n",
       "      <td>0.0</td>\n",
       "    </tr>\n",
       "  </tbody>\n",
       "</table>\n",
       "<p>5 rows × 36 columns</p>\n",
       "</div>"
      ],
      "text/plain": [
       "   date_block_num  shop_id  item_id  item_category_id  revenue  \\\n",
       "0              33        2     5572               0.0      0.0   \n",
       "1              33        2     5643               0.0      0.0   \n",
       "2              33        2     5583               0.0      0.0   \n",
       "3              33        2     7893               0.0      0.0   \n",
       "4              33        2     7894               6.0   9160.0   \n",
       "\n",
       "   mean_item_price  item_cnt  mean_item_cnt  transactions  year  ...  \\\n",
       "0              0.0       0.0            0.0           0.0  2015  ...   \n",
       "1              0.0       0.0            0.0           0.0  2015  ...   \n",
       "2              0.0       0.0            0.0           0.0  2015  ...   \n",
       "3              0.0       0.0            0.0           0.0  2015  ...   \n",
       "4           2290.0       4.0            1.0           4.0  2015  ...   \n",
       "\n",
       "   shop_item_mean  year_mean  month_mean  min_item_price  max_item_price  \\\n",
       "0        0.727273   0.298591    0.235336             0.0          2190.0   \n",
       "1        1.772727   0.298591    0.235336             0.0          3290.0   \n",
       "2        0.045455   0.298591    0.235336             0.0           699.0   \n",
       "3        3.363636   0.298591    0.235336             0.0          3090.0   \n",
       "4        1.818182   0.298591    0.235336             0.0          2290.0   \n",
       "\n",
       "   city  type  subtype  delta_from_min  delta_from_max  \n",
       "0     0    14       35             0.0          2190.0  \n",
       "1     0    14       35             0.0          3290.0  \n",
       "2     0    14       35             0.0           699.0  \n",
       "3     0    14       35             0.0          3090.0  \n",
       "4     0     0       63          2290.0             0.0  \n",
       "\n",
       "[5 rows x 36 columns]"
      ]
     },
     "execution_count": 116,
     "metadata": {},
     "output_type": "execute_result"
    }
   ],
   "source": [
    "print(test.shape)\n",
    "print(test.columns)\n",
    "test.head()"
   ]
  },
  {
   "cell_type": "code",
   "execution_count": 117,
   "metadata": {},
   "outputs": [],
   "source": [
    "X_train = train.drop(['item_cnt'], axis=1)\n",
    "y_train = train['item_cnt'].astype(int)\n",
    "X_validation = validation.drop(['item_cnt'], axis=1)\n",
    "y_validation = validation['item_cnt'].astype(int)\n",
    "X_test = test.drop(['item_cnt'], axis=1)\n",
    "y_test = test['item_cnt'].astype(int)"
   ]
  },
  {
   "cell_type": "code",
   "execution_count": 118,
   "metadata": {},
   "outputs": [],
   "source": [
    "# Integer features\n",
    "int_features = ['shop_id', 'item_id', 'year', 'month', 'city', 'type', 'subtype']\n",
    "\n",
    "X_train[int_features] = X_train[int_features].astype('int32')\n",
    "X_validation[int_features] = X_validation[int_features].astype('int32')\n",
    "X_test[int_features] = X_test[int_features].astype('int32')"
   ]
  },
  {
   "cell_type": "code",
   "execution_count": 119,
   "metadata": {},
   "outputs": [
    {
     "data": {
      "text/plain": [
       "Index(['date_block_num', 'shop_id', 'item_id', 'item_category_id', 'revenue',\n",
       "       'mean_item_price', 'mean_item_cnt', 'transactions', 'year', 'month',\n",
       "       'item_price', 'item_cnt_lag1', 'item_cnt_lag2', 'item_cnt_lag3',\n",
       "       'item_cnt_lag4', 'item_cnt_lag5', 'item_cnt_lag6', 'item_cnt_trend1',\n",
       "       'item_cnt_trend2', 'item_cnt_trend3', 'item_cnt_trend4',\n",
       "       'item_cnt_trend5', 'item_cnt_trend6', 'shop_mean', 'item_mean',\n",
       "       'shop_item_mean', 'year_mean', 'month_mean', 'min_item_price',\n",
       "       'max_item_price', 'city', 'type', 'subtype', 'delta_from_min',\n",
       "       'delta_from_max'],\n",
       "      dtype='object')"
      ]
     },
     "execution_count": 119,
     "metadata": {},
     "output_type": "execute_result"
    }
   ],
   "source": [
    "X_train.columns"
   ]
  },
  {
   "cell_type": "markdown",
   "metadata": {},
   "source": [
    "# Models"
   ]
  },
  {
   "cell_type": "code",
   "execution_count": 121,
   "metadata": {},
   "outputs": [],
   "source": [
    "from sklearn.linear_model import LinearRegression, Lasso, Ridge\n",
    "from sklearn.svm import SVR\n",
    "from sklearn.ensemble import RandomForestRegressor\n",
    "from xgboost import XGBRegressor\n",
    "\n",
    "from sklearn import metrics\n",
    "\n",
    "import statsmodels.api as sm\n",
    "import pickle"
   ]
  },
  {
   "cell_type": "code",
   "execution_count": 120,
   "metadata": {},
   "outputs": [],
   "source": [
    "# Use only part of features on XGBoost.\n",
    "xgb_features = ['shop_id', 'item_id', 'item_category_id', 'revenue',\n",
    "       'mean_item_price', 'mean_item_cnt', 'transactions', 'year', 'month',\n",
    "       'item_price', 'item_cnt_lag1', 'item_cnt_lag2', 'item_cnt_lag3',\n",
    "       'item_cnt_lag4', 'item_cnt_lag5', 'item_cnt_lag6', 'item_cnt_trend1',\n",
    "       'item_cnt_trend2', 'item_cnt_trend3', 'item_cnt_trend4',\n",
    "       'item_cnt_trend5', 'item_cnt_trend6', 'shop_mean', 'item_mean',\n",
    "       'shop_item_mean', 'year_mean', 'month_mean', 'min_item_price',\n",
    "       'max_item_price', 'city', 'type', 'subtype', 'delta_from_min',\n",
    "       'delta_from_max']\n",
    "xgb_train = X_train[xgb_features]\n",
    "xgb_val = X_validation[xgb_features]\n",
    "xgb_test = X_test[xgb_features]"
   ]
  },
  {
   "cell_type": "code",
   "execution_count": 122,
   "metadata": {},
   "outputs": [
    {
     "name": "stdout",
     "output_type": "stream",
     "text": [
      "[20:18:39] WARNING: /usr/local/miniconda/conda-bld/xgboost_1584539872846/work/src/gbm/gbtree.cc:138: Tree method is automatically selected to be 'approx' for faster speed. To use old behavior (exact greedy algorithm on single machine), set tree_method to 'exact'.\n",
      "[0]\tvalidation_0-rmse:3.30801\tvalidation_1-rmse:2.41496\n",
      "Multiple eval metrics have been passed: 'validation_1-rmse' will be used for early stopping.\n",
      "\n",
      "Will train until validation_1-rmse hasn't improved in 20 rounds.\n",
      "[20]\tvalidation_0-rmse:2.57661\tvalidation_1-rmse:2.17205\n",
      "[40]\tvalidation_0-rmse:2.37396\tvalidation_1-rmse:2.02822\n",
      "[60]\tvalidation_0-rmse:2.23096\tvalidation_1-rmse:1.99767\n",
      "[80]\tvalidation_0-rmse:2.10749\tvalidation_1-rmse:2.01791\n",
      "Stopping. Best iteration:\n",
      "[65]\tvalidation_0-rmse:2.20268\tvalidation_1-rmse:1.97878\n",
      "\n"
     ]
    },
    {
     "data": {
      "text/plain": [
       "XGBRegressor(base_score=0.5, booster=None, colsample_bylevel=1,\n",
       "             colsample_bynode=1, colsample_bytree=0.7, eta=0.3, gamma=0,\n",
       "             gpu_id=-1, importance_type='gain', interaction_constraints=None,\n",
       "             learning_rate=0.300000012, max_delta_step=0, max_depth=8,\n",
       "             min_child_weight=1000, missing=nan, monotone_constraints=None,\n",
       "             n_estimators=500, n_jobs=0, num_parallel_tree=1,\n",
       "             objective='reg:squarederror', random_state=0, reg_alpha=0,\n",
       "             reg_lambda=1, scale_pos_weight=1, seed=0, subsample=0.7,\n",
       "             tree_method=None, validate_parameters=False, verbosity=None)"
      ]
     },
     "execution_count": 122,
     "metadata": {},
     "output_type": "execute_result"
    }
   ],
   "source": [
    "xgb_model = XGBRegressor(max_depth=8, \n",
    "                         n_estimators=500, \n",
    "                         min_child_weight=1000,  \n",
    "                         colsample_bytree=0.7, \n",
    "                         subsample=0.7, \n",
    "                         eta=0.3, \n",
    "                         seed=0)\n",
    "xgb_model.fit(xgb_train, \n",
    "              y_train, \n",
    "              eval_metric=\"rmse\", \n",
    "              eval_set=[(xgb_train, y_train), (xgb_val, y_validation)], \n",
    "              verbose=20, \n",
    "              early_stopping_rounds=20)"
   ]
  },
  {
   "cell_type": "code",
   "execution_count": 212,
   "metadata": {},
   "outputs": [
    {
     "data": {
      "image/png": "[encoded data removed]",
      "text/plain": [
       "<Figure size 1080x432 with 1 Axes>"
      ]
     },
     "metadata": {
      "needs_background": "light"
     },
     "output_type": "display_data"
    }
   ],
   "source": [
    "from xgboost import plot_importance\n",
    "plot_importance(xgb_model)\n",
    "plt.show()"
   ]
  },
  {
   "cell_type": "code",
   "execution_count": 124,
   "metadata": {},
   "outputs": [],
   "source": [
    "xgb_train_pred = xgb_model.predict(xgb_train)\n",
    "xgb_val_pred = xgb_model.predict(xgb_val)\n",
    "xgb_test_pred = xgb_model.predict(xgb_test)"
   ]
  },
  {
   "cell_type": "code",
   "execution_count": 136,
   "metadata": {},
   "outputs": [
    {
     "name": "stdout",
     "output_type": "stream",
     "text": [
      ">>> XGB Model:\n",
      "Train rmse: 2.202859999513043\n",
      "Validation rmse: 1.9788348384588366\n",
      "Test rmse: 5.241169610754649\n",
      "\n",
      ">>> Baseline, predicting only zeroes:\n",
      "Train rmse: 3.739757193395697\n",
      "Validation rmse: 2.7787823822547235\n",
      "Test rmse: 5.780834714988785\n",
      "\n"
     ]
    }
   ],
   "source": [
    "print(f'>>> XGB Model:')\n",
    "print(f'Train rmse: {np.sqrt(metrics.mean_squared_error(y_train, xgb_train_pred))}')\n",
    "print(f'Validation rmse: {np.sqrt(metrics.mean_squared_error(y_validation, xgb_val_pred))}')\n",
    "print(f'Test rmse: {np.sqrt(metrics.mean_squared_error(y_test, xgb_test_pred))}\\n')\n",
    "\n",
    "print(f'>>> Baseline, predicting only zeroes:')\n",
    "print(f'Train rmse: {np.sqrt(metrics.mean_squared_error(y_train, np.zeros(y_train.shape[0])))}')\n",
    "print(f'Validation rmse: {np.sqrt(metrics.mean_squared_error(y_validation, np.zeros(y_validation.shape[0])))}')\n",
    "print(f'Test rmse: {np.sqrt(metrics.mean_squared_error(y_test, np.zeros(y_test.shape[0])))}\\n')"
   ]
  },
  {
   "cell_type": "code",
   "execution_count": 154,
   "metadata": {},
   "outputs": [],
   "source": [
    "# Saving the model\n",
    "with open(os.path.join(PATH, 'xgb_model.pkl'),'wb') as f:\n",
    "    pickle.dump(xgb_model, f, protocol=4)"
   ]
  },
  {
   "cell_type": "code",
   "execution_count": 195,
   "metadata": {},
   "outputs": [
    {
     "data": {
      "text/plain": [
       "(6734448, 29)"
      ]
     },
     "execution_count": 195,
     "metadata": {},
     "output_type": "execute_result"
    }
   ],
   "source": [
    "train_monthly.shape"
   ]
  },
  {
   "cell_type": "markdown",
   "metadata": {},
   "source": [
    "## Random Forest Regressor"
   ]
  },
  {
   "cell_type": "code",
   "execution_count": 121,
   "metadata": {},
   "outputs": [],
   "source": [
    "rf_features = ['item_cnt',\n",
    "                'mean_item_cnt',\n",
    "                'item_price',\n",
    "                'min_item_price',\n",
    "                'max_item_price',\n",
    "                'delta_from_min',\n",
    "                'delta_from_max', \n",
    "                'item_cnt_lag1',\n",
    "                'item_cnt_lag2',\n",
    "                'item_cnt_lag3',\n",
    "                'item_cnt_lag4',\n",
    "                'item_cnt_lag5',\n",
    "                'item_cnt_lag6',\n",
    "                'item_cnt_trend1',\n",
    "                'item_cnt_trend2',\n",
    "                'item_cnt_trend3',\n",
    "                'item_cnt_trend4',\n",
    "                'item_cnt_trend5',\n",
    "                'item_cnt_trend6',\n",
    "                'shop_mean',\n",
    "                'item_mean',\n",
    "                'shop_item_mean']"
   ]
  },
  {
   "cell_type": "code",
   "execution_count": 103,
   "metadata": {},
   "outputs": [
    {
     "name": "stdout",
     "output_type": "stream",
     "text": [
      "Collecting tscv\n",
      "  Downloading tscv-0.0.4-py3-none-any.whl (8.8 kB)\n",
      "Installing collected packages: tscv\n",
      "Successfully installed tscv-0.0.4\n"
     ]
    }
   ],
   "source": [
    "!pip install tscv"
   ]
  },
  {
   "cell_type": "code",
   "execution_count": 129,
   "metadata": {},
   "outputs": [],
   "source": [
    "from sklearn.ensemble import RandomForestRegressor\n",
    "from sklearn.model_selection import GridSearchCV\n",
    "import tscv\n",
    "\n",
    "parameters =  {'max_depth': [20],\n",
    "              'max_features': [20],\n",
    "              'min_samples_leaf': [1],\n",
    "              'min_samples_split': [2],\n",
    "              'n_estimators': [124],\n",
    "              'random_state': [42]}\n",
    "rf_model = RandomForestRegressor()"
   ]
  },
  {
   "cell_type": "code",
   "execution_count": 130,
   "metadata": {},
   "outputs": [],
   "source": [
    "gs = GridSearchCV(rf_model, parameters, cv=2, scoring = 'neg_root_mean_squared_error', verbose=10, n_jobs=-1, refit=True)"
   ]
  },
  {
   "cell_type": "code",
   "execution_count": 163,
   "metadata": {},
   "outputs": [],
   "source": [
    "X_train_rf = pd.concat([X_train, X_validation], axis=0)\n",
    "y_train_rf = pd.concat([y_train, y_validation], axis=0)"
   ]
  },
  {
   "cell_type": "code",
   "execution_count": 164,
   "metadata": {},
   "outputs": [
    {
     "name": "stdout",
     "output_type": "stream",
     "text": [
      "Fitting 2 folds for each of 1 candidates, totalling 2 fits\n"
     ]
    },
    {
     "name": "stderr",
     "output_type": "stream",
     "text": [
      "[Parallel(n_jobs=-1)]: Using backend LokyBackend with 4 concurrent workers.\n",
      "[Parallel(n_jobs=-1)]: Done   2 out of   2 | elapsed: 15.1min remaining:    0.0s\n",
      "[Parallel(n_jobs=-1)]: Done   2 out of   2 | elapsed: 15.1min finished\n"
     ]
    }
   ],
   "source": [
    "gs = gs.fit(X_train_rf, y_train_rf)"
   ]
  },
  {
   "cell_type": "code",
   "execution_count": 165,
   "metadata": {},
   "outputs": [
    {
     "name": "stdout",
     "output_type": "stream",
     "text": [
      "***GRIDSEARCH RESULTS***\n",
      "Best score: -0.7835470019258387 using {'max_depth': 20, 'max_features': 20, 'min_samples_leaf': 1, 'min_samples_split': 2, 'n_estimators': 124, 'random_state': 42}\n"
     ]
    }
   ],
   "source": [
    "print('***GRIDSEARCH RESULTS***')\n",
    "\n",
    "print(f\"Best score: {gs.best_score_} using {gs.best_params_}\")"
   ]
  },
  {
   "cell_type": "code",
   "execution_count": 169,
   "metadata": {},
   "outputs": [],
   "source": [
    "rf_model_best = gs.best_estimator_\n",
    "\n",
    "rf_train_pred = rf_model_best.predict(X_train_rf)\n",
    "rf_test_pred = rf_model_best.predict(X_test)"
   ]
  },
  {
   "cell_type": "code",
   "execution_count": 171,
   "metadata": {},
   "outputs": [
    {
     "name": "stdout",
     "output_type": "stream",
     "text": [
      ">>> Random Forest Model:\n",
      "Train rmse: 0.18189468964263544\n",
      "Test rmse: 3.5903162519840683\n",
      "\n",
      ">>> Baseline, predicting only zeroes:\n",
      "Train rmse: 3.581306417340388\n",
      "Test rmse: 5.780834714988785\n",
      "\n"
     ]
    }
   ],
   "source": [
    "print(f'>>> Random Forest Model:')\n",
    "print(f'Train rmse: {np.sqrt(metrics.mean_squared_error(y_train_rf, rf_train_pred))}')\n",
    "print(f'Test rmse: {np.sqrt(metrics.mean_squared_error(y_test, rf_test_pred))}\\n')\n",
    "\n",
    "print(f'>>> Baseline, predicting only zeroes:')\n",
    "print(f'Train rmse: {np.sqrt(metrics.mean_squared_error(y_train_rf, np.zeros(y_train_rf.shape[0])))}')\n",
    "print(f'Test rmse: {np.sqrt(metrics.mean_squared_error(y_test, np.zeros(y_test.shape[0])))}\\n')"
   ]
  },
  {
   "cell_type": "code",
   "execution_count": 198,
   "metadata": {},
   "outputs": [
    {
     "data": {
      "image/png": "[encoded data removed]",
      "text/plain": [
       "<Figure size 1080x432 with 1 Axes>"
      ]
     },
     "metadata": {
      "needs_background": "light"
     },
     "output_type": "display_data"
    }
   ],
   "source": [
    "feat_importances = pd.Series(rf_model_best.feature_importances_, index=X_train.columns)\n",
    "feat_importances = feat_importances.sort_values()\n",
    "feat_importances.iloc[20:].plot(kind='barh')\n",
    "plt.show()"
   ]
  },
  {
   "cell_type": "code",
   "execution_count": 168,
   "metadata": {},
   "outputs": [],
   "source": [
    "# Saving the model\n",
    "with open(os.path.join(PATH, 'rf_model.pkl'),'wb') as f:\n",
    "    pickle.dump(rf_model_best, f, protocol=4)"
   ]
  },
  {
   "cell_type": "markdown",
   "metadata": {},
   "source": [
    "## LightGBM"
   ]
  },
  {
   "cell_type": "code",
   "execution_count": 200,
   "metadata": {},
   "outputs": [],
   "source": [
    "from lightgbm import LGBMRegressor"
   ]
  },
  {
   "cell_type": "code",
   "execution_count": 202,
   "metadata": {},
   "outputs": [],
   "source": [
    "LightGBM = LGBMRegressor(boosting_type=['goss'], learning_rate=0.1, max_depth=-1,\n",
    "              min_child_samples=20, min_child_weight=0.001, min_split_gain=0.0,\n",
    "              n_estimators=143, n_jobs=-1, num_leaves=31, objective=None,\n",
    "              random_state=42)"
   ]
  },
  {
   "cell_type": "code",
   "execution_count": 205,
   "metadata": {},
   "outputs": [
    {
     "name": "stdout",
     "output_type": "stream",
     "text": [
      "Training until validation scores don't improve for 20 rounds\n",
      "[20]\ttraining's rmse: 0.849694\ttraining's l2: 0.72198\tvalid_1's rmse: 0.620082\tvalid_1's l2: 0.384502\n",
      "[40]\ttraining's rmse: 0.55381\ttraining's l2: 0.306706\tvalid_1's rmse: 0.403361\tvalid_1's l2: 0.1627\n",
      "[60]\ttraining's rmse: 0.507834\ttraining's l2: 0.257896\tvalid_1's rmse: 0.396139\tvalid_1's l2: 0.156926\n",
      "[80]\ttraining's rmse: 0.476803\ttraining's l2: 0.227341\tvalid_1's rmse: 0.388219\tvalid_1's l2: 0.150714\n",
      "[100]\ttraining's rmse: 0.44685\ttraining's l2: 0.199675\tvalid_1's rmse: 0.39184\tvalid_1's l2: 0.153538\n",
      "Early stopping, best iteration is:\n",
      "[90]\ttraining's rmse: 0.465692\ttraining's l2: 0.216869\tvalid_1's rmse: 0.385207\tvalid_1's l2: 0.148385\n"
     ]
    },
    {
     "data": {
      "text/plain": [
       "LGBMRegressor(boosting_type=['goss'], class_weight=None, colsample_bytree=1.0,\n",
       "              importance_type='split', learning_rate=0.1, max_depth=-1,\n",
       "              min_child_samples=20, min_child_weight=0.001, min_split_gain=0.0,\n",
       "              n_estimators=143, n_jobs=-1, num_leaves=31, objective=None,\n",
       "              random_state=42, reg_alpha=0.0, reg_lambda=0.0, silent=True,\n",
       "              subsample=1.0, subsample_for_bin=200000, subsample_freq=0)"
      ]
     },
     "execution_count": 205,
     "metadata": {},
     "output_type": "execute_result"
    }
   ],
   "source": [
    "LightGBM.fit(xgb_train, \n",
    "             y_train, \n",
    "             eval_metric=\"rmse\", \n",
    "             eval_set=[(xgb_train, y_train), (xgb_val, y_validation)], \n",
    "             verbose=20,\n",
    "             early_stopping_rounds=20)"
   ]
  },
  {
   "cell_type": "code",
   "execution_count": 206,
   "metadata": {},
   "outputs": [],
   "source": [
    "lgbm_train_pred = LightGBM.predict(xgb_train)\n",
    "lgbm_val_pred = LightGBM.predict(xgb_val)\n",
    "lgbm_test_pred = LightGBM.predict(xgb_test)"
   ]
  },
  {
   "cell_type": "code",
   "execution_count": 209,
   "metadata": {},
   "outputs": [
    {
     "name": "stdout",
     "output_type": "stream",
     "text": [
      ">>> LightGBM Model:\n",
      "Train rmse: 0.4656915958985491\n",
      "Validation rmse: 0.38520715305750286\n",
      "Test rmse: 3.686694494995098\n",
      "\n",
      ">>> Baseline, predicting only zeroes:\n",
      "Train rmse: 3.739757193395697\n",
      "Validation rmse: 2.7787823822547235\n",
      "Test rmse: 5.780834714988785\n",
      "\n"
     ]
    }
   ],
   "source": [
    "print(f'>>> LightGBM Model:')\n",
    "print(f'Train rmse: {np.sqrt(metrics.mean_squared_error(y_train, lgbm_train_pred))}')\n",
    "print(f'Validation rmse: {np.sqrt(metrics.mean_squared_error(y_validation, lgbm_val_pred))}')\n",
    "print(f'Test rmse: {np.sqrt(metrics.mean_squared_error(y_test, lgbm_test_pred))}\\n')\n",
    "\n",
    "print(f'>>> Baseline, predicting only zeroes:')\n",
    "print(f'Train rmse: {np.sqrt(metrics.mean_squared_error(y_train, np.zeros(y_train.shape[0])))}')\n",
    "print(f'Validation rmse: {np.sqrt(metrics.mean_squared_error(y_validation, np.zeros(y_validation.shape[0])))}')\n",
    "print(f'Test rmse: {np.sqrt(metrics.mean_squared_error(y_test, np.zeros(y_test.shape[0])))}\\n')"
   ]
  },
  {
   "cell_type": "code",
   "execution_count": 255,
   "metadata": {},
   "outputs": [
    {
     "data": {
      "image/png": "[encoded data removed]",
      "text/plain": [
       "<Figure size 1080x432 with 1 Axes>"
      ]
     },
     "metadata": {},
     "output_type": "display_data"
    }
   ],
   "source": [
    "from lightgbm import plot_importance\n",
    "plot_importance(LightGBM, importance_type='gain')\n",
    "plt.show()"
   ]
  },
  {
   "cell_type": "code",
   "execution_count": 256,
   "metadata": {},
   "outputs": [
    {
     "data": {
      "image/png": "[encoded data removed]",
      "text/plain": [
       "<Figure size 1080x432 with 1 Axes>"
      ]
     },
     "metadata": {},
     "output_type": "display_data"
    }
   ],
   "source": [
    "plot_importance(LightGBM, importance_type='split')\n",
    "plt.show()"
   ]
  },
  {
   "cell_type": "code",
   "execution_count": 217,
   "metadata": {},
   "outputs": [],
   "source": [
    "# Saving the model\n",
    "with open('/Users/giuma/Downloads/lightgbm_model.pkl','wb') as f:\n",
    "    pickle.dump(LightGBM, f, protocol=4)"
   ]
  },
  {
   "cell_type": "markdown",
   "metadata": {},
   "source": [
    "## Ensemble XGB + RF"
   ]
  },
  {
   "cell_type": "code",
   "execution_count": 220,
   "metadata": {},
   "outputs": [],
   "source": [
    "from sklearn.ensemble import VotingRegressor\n",
    "ensemble_reg = VotingRegressor(estimators=[('XGBoost', xgb_model),\n",
    "                                           ('Random Forest Best', rf_model_best)],\n",
    "                                          n_jobs=-1)"
   ]
  },
  {
   "cell_type": "code",
   "execution_count": null,
   "metadata": {},
   "outputs": [],
   "source": [
    "ensemble_reg.fit(X_train, y_train)"
   ]
  },
  {
   "cell_type": "code",
   "execution_count": 157,
   "metadata": {},
   "outputs": [],
   "source": [
    "# Saving the model\n",
    "with open(os.path.join(PATH, 'ensemble_model.pkl'),'wb') as f:\n",
    "    pickle.dump(ensemble_reg, f, protocol=4)"
   ]
  },
  {
   "cell_type": "code",
   "execution_count": 158,
   "metadata": {},
   "outputs": [],
   "source": [
    "ensemble_train_pred = ensemble_reg.predict(X_train)\n",
    "ensemble_val_pred = ensemble_reg.predict(X_validation)\n",
    "ensemble_test_pred = ensemble_reg.predict(X_test)"
   ]
  },
  {
   "cell_type": "code",
   "execution_count": 160,
   "metadata": {},
   "outputs": [
    {
     "name": "stdout",
     "output_type": "stream",
     "text": [
      ">>> Ensemble (XGB + RF) Model:\n",
      "Train rmse: 0.7377053246098604\n",
      "Validation rmse: 1.0404388369564985\n",
      "Test rmse: 4.409918774192164\n",
      "\n",
      ">>> Baseline, predicting only zeroes:\n",
      "Train rmse: 3.739757193395697\n",
      "Validation rmse: 2.7787823822547235\n",
      "Test rmse: 5.780834714988785\n",
      "\n"
     ]
    }
   ],
   "source": [
    "print(f'>>> Ensemble (XGB + RF) Model:')\n",
    "print(f'Train rmse: {np.sqrt(metrics.mean_squared_error(y_train, ensemble_train_pred))}')\n",
    "print(f'Validation rmse: {np.sqrt(metrics.mean_squared_error(y_validation, ensemble_val_pred))}')\n",
    "print(f'Test rmse: {np.sqrt(metrics.mean_squared_error(y_test, ensemble_test_pred))}\\n')\n",
    "\n",
    "print(f'>>> Baseline, predicting only zeroes:')\n",
    "print(f'Train rmse: {np.sqrt(metrics.mean_squared_error(y_train, np.zeros(y_train.shape[0])))}')\n",
    "print(f'Validation rmse: {np.sqrt(metrics.mean_squared_error(y_validation, np.zeros(y_validation.shape[0])))}')\n",
    "print(f'Test rmse: {np.sqrt(metrics.mean_squared_error(y_test, np.zeros(y_test.shape[0])))}\\n')"
   ]
  },
  {
   "cell_type": "markdown",
   "metadata": {},
   "source": [
    "## Ensemble XGB + RF + LightGBM"
   ]
  },
  {
   "cell_type": "code",
   "execution_count": 222,
   "metadata": {},
   "outputs": [],
   "source": [
    "ensemble_reg = VotingRegressor(estimators=[('XGBoost', xgb_model),\n",
    "                                           ('Random Forest Best', rf_model_best),\n",
    "                                          ('LightGBM', LightGBM)],\n",
    "                                          n_jobs=-1,\n",
    "                                          weights=[0.5,1.1,1])"
   ]
  },
  {
   "cell_type": "code",
   "execution_count": 225,
   "metadata": {},
   "outputs": [
    {
     "name": "stdout",
     "output_type": "stream",
     "text": [
      "CPU times: user 803 ms, sys: 2.06 s, total: 2.86 s\n",
      "Wall time: 2h 32min 4s\n"
     ]
    },
    {
     "data": {
      "text/plain": [
       "VotingRegressor(estimators=[('XGBoost',\n",
       "                             XGBRegressor(base_score=0.5, booster=None,\n",
       "                                          colsample_bylevel=1,\n",
       "                                          colsample_bynode=1,\n",
       "                                          colsample_bytree=0.7, eta=0.3,\n",
       "                                          gamma=0, gpu_id=-1,\n",
       "                                          importance_type='gain',\n",
       "                                          interaction_constraints=None,\n",
       "                                          learning_rate=0.300000012,\n",
       "                                          max_delta_step=0, max_depth=8,\n",
       "                                          min_child_weight=1000, missing=nan,\n",
       "                                          monotone_constraints=None,\n",
       "                                          n_estimators=500,...\n",
       "                                           class_weight=None,\n",
       "                                           colsample_bytree=1.0,\n",
       "                                           importance_type='split',\n",
       "                                           learning_rate=0.1, max_depth=-1,\n",
       "                                           min_child_samples=20,\n",
       "                                           min_child_weight=0.001,\n",
       "                                           min_split_gain=0.0, n_estimators=143,\n",
       "                                           n_jobs=-1, num_leaves=31,\n",
       "                                           objective=None, random_state=42,\n",
       "                                           reg_alpha=0.0, reg_lambda=0.0,\n",
       "                                           silent=True, subsample=1.0,\n",
       "                                           subsample_for_bin=200000,\n",
       "                                           subsample_freq=0))],\n",
       "                n_jobs=-1, weights=[0.5, 1.1, 1])"
      ]
     },
     "execution_count": 225,
     "metadata": {},
     "output_type": "execute_result"
    }
   ],
   "source": [
    "%%time\n",
    "ensemble_reg.fit(X_train, y_train)"
   ]
  },
  {
   "cell_type": "code",
   "execution_count": 228,
   "metadata": {},
   "outputs": [],
   "source": [
    "# Saving the model\n",
    "with open('/Users/giuma/Downloads/ensemble_3_model.pkl','wb') as f:\n",
    "    pickle.dump(ensemble_reg, f, protocol=4)"
   ]
  },
  {
   "cell_type": "code",
   "execution_count": 226,
   "metadata": {},
   "outputs": [],
   "source": [
    "ensemble_train_pred = ensemble_reg.predict(X_train)\n",
    "ensemble_val_pred = ensemble_reg.predict(X_validation)\n",
    "ensemble_test_pred = ensemble_reg.predict(X_test)"
   ]
  },
  {
   "cell_type": "code",
   "execution_count": 227,
   "metadata": {},
   "outputs": [
    {
     "name": "stdout",
     "output_type": "stream",
     "text": [
      ">>> Ensemble (XGB + RF + LightGBM) Model:\n",
      "Train rmse: 0.41335926788127675\n",
      "Validation rmse: 0.5452800192394998\n",
      "Test rmse: 3.945408385680617\n",
      "\n",
      ">>> Baseline, predicting only zeroes:\n",
      "Train rmse: 3.739757193395697\n",
      "Validation rmse: 2.7787823822547235\n",
      "Test rmse: 5.780834714988785\n",
      "\n"
     ]
    }
   ],
   "source": [
    "print(f'>>> Ensemble (XGB + RF + LightGBM) Model:')\n",
    "print(f'Train rmse: {np.sqrt(metrics.mean_squared_error(y_train, ensemble_train_pred))}')\n",
    "print(f'Validation rmse: {np.sqrt(metrics.mean_squared_error(y_validation, ensemble_val_pred))}')\n",
    "print(f'Test rmse: {np.sqrt(metrics.mean_squared_error(y_test, ensemble_test_pred))}\\n')\n",
    "\n",
    "print(f'>>> Baseline, predicting only zeroes:')\n",
    "print(f'Train rmse: {np.sqrt(metrics.mean_squared_error(y_train, np.zeros(y_train.shape[0])))}')\n",
    "print(f'Validation rmse: {np.sqrt(metrics.mean_squared_error(y_validation, np.zeros(y_validation.shape[0])))}')\n",
    "print(f'Test rmse: {np.sqrt(metrics.mean_squared_error(y_test, np.zeros(y_test.shape[0])))}\\n')"
   ]
  }
 ],
 "metadata": {
  "kernelspec": {
   "display_name": "Python 3",
   "language": "python",
   "name": "python3"
  },
  "language_info": {
   "codemirror_mode": {
    "name": "ipython",
    "version": 3
   },
   "file_extension": ".py",
   "mimetype": "text/x-python",
   "name": "python",
   "nbconvert_exporter": "python",
   "pygments_lexer": "ipython3",
   "version": "3.7.6"
  }
 },
 "nbformat": 4,
 "nbformat_minor": 4
}